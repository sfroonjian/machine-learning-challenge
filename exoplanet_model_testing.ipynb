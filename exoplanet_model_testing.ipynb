{
 "cells": [
  {
   "cell_type": "code",
   "execution_count": 1,
   "metadata": {},
   "outputs": [
    {
     "name": "stdout",
     "output_type": "stream",
     "text": [
      "Requirement already up-to-date: sklearn in /opt/anaconda3/envs/PythonAdv/lib/python3.6/site-packages (0.0)\r\n",
      "Requirement already satisfied, skipping upgrade: scikit-learn in /opt/anaconda3/envs/PythonAdv/lib/python3.6/site-packages (from sklearn) (0.23.1)\r\n",
      "Requirement already satisfied, skipping upgrade: threadpoolctl>=2.0.0 in /opt/anaconda3/envs/PythonAdv/lib/python3.6/site-packages (from scikit-learn->sklearn) (2.1.0)\r\n",
      "Requirement already satisfied, skipping upgrade: numpy>=1.13.3 in /opt/anaconda3/envs/PythonAdv/lib/python3.6/site-packages (from scikit-learn->sklearn) (1.18.5)\r\n",
      "Requirement already satisfied, skipping upgrade: joblib>=0.11 in /opt/anaconda3/envs/PythonAdv/lib/python3.6/site-packages (from scikit-learn->sklearn) (0.15.1)\r\n",
      "Requirement already satisfied, skipping upgrade: scipy>=0.19.1 in /opt/anaconda3/envs/PythonAdv/lib/python3.6/site-packages (from scikit-learn->sklearn) (1.5.0)\r\n"
     ]
    }
   ],
   "source": [
    "# Update sklearn to prevent version mismatches\n",
    "!pip install sklearn --upgrade"
   ]
  },
  {
   "cell_type": "code",
   "execution_count": 2,
   "metadata": {},
   "outputs": [
    {
     "name": "stdout",
     "output_type": "stream",
     "text": [
      "Requirement already satisfied: joblib in /opt/anaconda3/envs/PythonAdv/lib/python3.6/site-packages (0.15.1)\r\n"
     ]
    }
   ],
   "source": [
    "# install joblib. This will be used to save your model. \n",
    "# Restart your kernel after installing \n",
    "!pip install joblib"
   ]
  },
  {
   "cell_type": "code",
   "execution_count": 3,
   "metadata": {},
   "outputs": [],
   "source": [
    "import pandas as pd"
   ]
  },
  {
   "cell_type": "markdown",
   "metadata": {},
   "source": [
    "# Read the CSV and Perform Basic Data Cleaning"
   ]
  },
  {
   "cell_type": "code",
   "execution_count": 4,
   "metadata": {},
   "outputs": [
    {
     "data": {
      "text/html": [
       "<div>\n",
       "<style scoped>\n",
       "    .dataframe tbody tr th:only-of-type {\n",
       "        vertical-align: middle;\n",
       "    }\n",
       "\n",
       "    .dataframe tbody tr th {\n",
       "        vertical-align: top;\n",
       "    }\n",
       "\n",
       "    .dataframe thead th {\n",
       "        text-align: right;\n",
       "    }\n",
       "</style>\n",
       "<table border=\"1\" class=\"dataframe\">\n",
       "  <thead>\n",
       "    <tr style=\"text-align: right;\">\n",
       "      <th></th>\n",
       "      <th>koi_disposition</th>\n",
       "      <th>koi_fpflag_nt</th>\n",
       "      <th>koi_fpflag_ss</th>\n",
       "      <th>koi_fpflag_co</th>\n",
       "      <th>koi_fpflag_ec</th>\n",
       "      <th>koi_period</th>\n",
       "      <th>koi_period_err1</th>\n",
       "      <th>koi_period_err2</th>\n",
       "      <th>koi_time0bk</th>\n",
       "      <th>koi_time0bk_err1</th>\n",
       "      <th>...</th>\n",
       "      <th>koi_steff_err2</th>\n",
       "      <th>koi_slogg</th>\n",
       "      <th>koi_slogg_err1</th>\n",
       "      <th>koi_slogg_err2</th>\n",
       "      <th>koi_srad</th>\n",
       "      <th>koi_srad_err1</th>\n",
       "      <th>koi_srad_err2</th>\n",
       "      <th>ra</th>\n",
       "      <th>dec</th>\n",
       "      <th>koi_kepmag</th>\n",
       "    </tr>\n",
       "  </thead>\n",
       "  <tbody>\n",
       "    <tr>\n",
       "      <th>0</th>\n",
       "      <td>CONFIRMED</td>\n",
       "      <td>0</td>\n",
       "      <td>0</td>\n",
       "      <td>0</td>\n",
       "      <td>0</td>\n",
       "      <td>54.418383</td>\n",
       "      <td>2.479000e-04</td>\n",
       "      <td>-2.479000e-04</td>\n",
       "      <td>162.513840</td>\n",
       "      <td>0.003520</td>\n",
       "      <td>...</td>\n",
       "      <td>-81</td>\n",
       "      <td>4.467</td>\n",
       "      <td>0.064</td>\n",
       "      <td>-0.096</td>\n",
       "      <td>0.927</td>\n",
       "      <td>0.105</td>\n",
       "      <td>-0.061</td>\n",
       "      <td>291.93423</td>\n",
       "      <td>48.141651</td>\n",
       "      <td>15.347</td>\n",
       "    </tr>\n",
       "    <tr>\n",
       "      <th>1</th>\n",
       "      <td>FALSE POSITIVE</td>\n",
       "      <td>0</td>\n",
       "      <td>1</td>\n",
       "      <td>0</td>\n",
       "      <td>0</td>\n",
       "      <td>19.899140</td>\n",
       "      <td>1.490000e-05</td>\n",
       "      <td>-1.490000e-05</td>\n",
       "      <td>175.850252</td>\n",
       "      <td>0.000581</td>\n",
       "      <td>...</td>\n",
       "      <td>-176</td>\n",
       "      <td>4.544</td>\n",
       "      <td>0.044</td>\n",
       "      <td>-0.176</td>\n",
       "      <td>0.868</td>\n",
       "      <td>0.233</td>\n",
       "      <td>-0.078</td>\n",
       "      <td>297.00482</td>\n",
       "      <td>48.134129</td>\n",
       "      <td>15.436</td>\n",
       "    </tr>\n",
       "    <tr>\n",
       "      <th>2</th>\n",
       "      <td>FALSE POSITIVE</td>\n",
       "      <td>0</td>\n",
       "      <td>1</td>\n",
       "      <td>0</td>\n",
       "      <td>0</td>\n",
       "      <td>1.736952</td>\n",
       "      <td>2.630000e-07</td>\n",
       "      <td>-2.630000e-07</td>\n",
       "      <td>170.307565</td>\n",
       "      <td>0.000115</td>\n",
       "      <td>...</td>\n",
       "      <td>-174</td>\n",
       "      <td>4.564</td>\n",
       "      <td>0.053</td>\n",
       "      <td>-0.168</td>\n",
       "      <td>0.791</td>\n",
       "      <td>0.201</td>\n",
       "      <td>-0.067</td>\n",
       "      <td>285.53461</td>\n",
       "      <td>48.285210</td>\n",
       "      <td>15.597</td>\n",
       "    </tr>\n",
       "    <tr>\n",
       "      <th>3</th>\n",
       "      <td>CONFIRMED</td>\n",
       "      <td>0</td>\n",
       "      <td>0</td>\n",
       "      <td>0</td>\n",
       "      <td>0</td>\n",
       "      <td>2.525592</td>\n",
       "      <td>3.760000e-06</td>\n",
       "      <td>-3.760000e-06</td>\n",
       "      <td>171.595550</td>\n",
       "      <td>0.001130</td>\n",
       "      <td>...</td>\n",
       "      <td>-211</td>\n",
       "      <td>4.438</td>\n",
       "      <td>0.070</td>\n",
       "      <td>-0.210</td>\n",
       "      <td>1.046</td>\n",
       "      <td>0.334</td>\n",
       "      <td>-0.133</td>\n",
       "      <td>288.75488</td>\n",
       "      <td>48.226200</td>\n",
       "      <td>15.509</td>\n",
       "    </tr>\n",
       "    <tr>\n",
       "      <th>4</th>\n",
       "      <td>CONFIRMED</td>\n",
       "      <td>0</td>\n",
       "      <td>0</td>\n",
       "      <td>0</td>\n",
       "      <td>0</td>\n",
       "      <td>4.134435</td>\n",
       "      <td>1.050000e-05</td>\n",
       "      <td>-1.050000e-05</td>\n",
       "      <td>172.979370</td>\n",
       "      <td>0.001900</td>\n",
       "      <td>...</td>\n",
       "      <td>-232</td>\n",
       "      <td>4.486</td>\n",
       "      <td>0.054</td>\n",
       "      <td>-0.229</td>\n",
       "      <td>0.972</td>\n",
       "      <td>0.315</td>\n",
       "      <td>-0.105</td>\n",
       "      <td>296.28613</td>\n",
       "      <td>48.224670</td>\n",
       "      <td>15.714</td>\n",
       "    </tr>\n",
       "    <tr>\n",
       "      <th>...</th>\n",
       "      <td>...</td>\n",
       "      <td>...</td>\n",
       "      <td>...</td>\n",
       "      <td>...</td>\n",
       "      <td>...</td>\n",
       "      <td>...</td>\n",
       "      <td>...</td>\n",
       "      <td>...</td>\n",
       "      <td>...</td>\n",
       "      <td>...</td>\n",
       "      <td>...</td>\n",
       "      <td>...</td>\n",
       "      <td>...</td>\n",
       "      <td>...</td>\n",
       "      <td>...</td>\n",
       "      <td>...</td>\n",
       "      <td>...</td>\n",
       "      <td>...</td>\n",
       "      <td>...</td>\n",
       "      <td>...</td>\n",
       "      <td>...</td>\n",
       "    </tr>\n",
       "    <tr>\n",
       "      <th>6986</th>\n",
       "      <td>FALSE POSITIVE</td>\n",
       "      <td>0</td>\n",
       "      <td>0</td>\n",
       "      <td>0</td>\n",
       "      <td>1</td>\n",
       "      <td>8.589871</td>\n",
       "      <td>1.846000e-04</td>\n",
       "      <td>-1.846000e-04</td>\n",
       "      <td>132.016100</td>\n",
       "      <td>0.015700</td>\n",
       "      <td>...</td>\n",
       "      <td>-152</td>\n",
       "      <td>4.296</td>\n",
       "      <td>0.231</td>\n",
       "      <td>-0.189</td>\n",
       "      <td>1.088</td>\n",
       "      <td>0.313</td>\n",
       "      <td>-0.228</td>\n",
       "      <td>298.74921</td>\n",
       "      <td>46.973351</td>\n",
       "      <td>14.478</td>\n",
       "    </tr>\n",
       "    <tr>\n",
       "      <th>6987</th>\n",
       "      <td>FALSE POSITIVE</td>\n",
       "      <td>0</td>\n",
       "      <td>1</td>\n",
       "      <td>1</td>\n",
       "      <td>0</td>\n",
       "      <td>0.527699</td>\n",
       "      <td>1.160000e-07</td>\n",
       "      <td>-1.160000e-07</td>\n",
       "      <td>131.705093</td>\n",
       "      <td>0.000170</td>\n",
       "      <td>...</td>\n",
       "      <td>-166</td>\n",
       "      <td>4.529</td>\n",
       "      <td>0.035</td>\n",
       "      <td>-0.196</td>\n",
       "      <td>0.903</td>\n",
       "      <td>0.237</td>\n",
       "      <td>-0.079</td>\n",
       "      <td>297.18875</td>\n",
       "      <td>47.093819</td>\n",
       "      <td>14.082</td>\n",
       "    </tr>\n",
       "    <tr>\n",
       "      <th>6988</th>\n",
       "      <td>CANDIDATE</td>\n",
       "      <td>0</td>\n",
       "      <td>0</td>\n",
       "      <td>0</td>\n",
       "      <td>0</td>\n",
       "      <td>1.739849</td>\n",
       "      <td>1.780000e-05</td>\n",
       "      <td>-1.780000e-05</td>\n",
       "      <td>133.001270</td>\n",
       "      <td>0.007690</td>\n",
       "      <td>...</td>\n",
       "      <td>-220</td>\n",
       "      <td>4.444</td>\n",
       "      <td>0.056</td>\n",
       "      <td>-0.224</td>\n",
       "      <td>1.031</td>\n",
       "      <td>0.341</td>\n",
       "      <td>-0.114</td>\n",
       "      <td>286.50937</td>\n",
       "      <td>47.163219</td>\n",
       "      <td>14.757</td>\n",
       "    </tr>\n",
       "    <tr>\n",
       "      <th>6989</th>\n",
       "      <td>FALSE POSITIVE</td>\n",
       "      <td>0</td>\n",
       "      <td>0</td>\n",
       "      <td>1</td>\n",
       "      <td>0</td>\n",
       "      <td>0.681402</td>\n",
       "      <td>2.430000e-06</td>\n",
       "      <td>-2.430000e-06</td>\n",
       "      <td>132.181750</td>\n",
       "      <td>0.002850</td>\n",
       "      <td>...</td>\n",
       "      <td>-236</td>\n",
       "      <td>4.447</td>\n",
       "      <td>0.056</td>\n",
       "      <td>-0.224</td>\n",
       "      <td>1.041</td>\n",
       "      <td>0.341</td>\n",
       "      <td>-0.114</td>\n",
       "      <td>294.16489</td>\n",
       "      <td>47.176281</td>\n",
       "      <td>15.385</td>\n",
       "    </tr>\n",
       "    <tr>\n",
       "      <th>6990</th>\n",
       "      <td>FALSE POSITIVE</td>\n",
       "      <td>0</td>\n",
       "      <td>0</td>\n",
       "      <td>1</td>\n",
       "      <td>1</td>\n",
       "      <td>4.856035</td>\n",
       "      <td>6.360000e-05</td>\n",
       "      <td>-6.360000e-05</td>\n",
       "      <td>135.993300</td>\n",
       "      <td>0.010800</td>\n",
       "      <td>...</td>\n",
       "      <td>-225</td>\n",
       "      <td>4.385</td>\n",
       "      <td>0.054</td>\n",
       "      <td>-0.216</td>\n",
       "      <td>1.193</td>\n",
       "      <td>0.410</td>\n",
       "      <td>-0.137</td>\n",
       "      <td>297.00977</td>\n",
       "      <td>47.121021</td>\n",
       "      <td>14.826</td>\n",
       "    </tr>\n",
       "  </tbody>\n",
       "</table>\n",
       "<p>6991 rows × 41 columns</p>\n",
       "</div>"
      ],
      "text/plain": [
       "     koi_disposition  koi_fpflag_nt  koi_fpflag_ss  koi_fpflag_co  \\\n",
       "0          CONFIRMED              0              0              0   \n",
       "1     FALSE POSITIVE              0              1              0   \n",
       "2     FALSE POSITIVE              0              1              0   \n",
       "3          CONFIRMED              0              0              0   \n",
       "4          CONFIRMED              0              0              0   \n",
       "...              ...            ...            ...            ...   \n",
       "6986  FALSE POSITIVE              0              0              0   \n",
       "6987  FALSE POSITIVE              0              1              1   \n",
       "6988       CANDIDATE              0              0              0   \n",
       "6989  FALSE POSITIVE              0              0              1   \n",
       "6990  FALSE POSITIVE              0              0              1   \n",
       "\n",
       "      koi_fpflag_ec  koi_period  koi_period_err1  koi_period_err2  \\\n",
       "0                 0   54.418383     2.479000e-04    -2.479000e-04   \n",
       "1                 0   19.899140     1.490000e-05    -1.490000e-05   \n",
       "2                 0    1.736952     2.630000e-07    -2.630000e-07   \n",
       "3                 0    2.525592     3.760000e-06    -3.760000e-06   \n",
       "4                 0    4.134435     1.050000e-05    -1.050000e-05   \n",
       "...             ...         ...              ...              ...   \n",
       "6986              1    8.589871     1.846000e-04    -1.846000e-04   \n",
       "6987              0    0.527699     1.160000e-07    -1.160000e-07   \n",
       "6988              0    1.739849     1.780000e-05    -1.780000e-05   \n",
       "6989              0    0.681402     2.430000e-06    -2.430000e-06   \n",
       "6990              1    4.856035     6.360000e-05    -6.360000e-05   \n",
       "\n",
       "      koi_time0bk  koi_time0bk_err1  ...  koi_steff_err2  koi_slogg  \\\n",
       "0      162.513840          0.003520  ...             -81      4.467   \n",
       "1      175.850252          0.000581  ...            -176      4.544   \n",
       "2      170.307565          0.000115  ...            -174      4.564   \n",
       "3      171.595550          0.001130  ...            -211      4.438   \n",
       "4      172.979370          0.001900  ...            -232      4.486   \n",
       "...           ...               ...  ...             ...        ...   \n",
       "6986   132.016100          0.015700  ...            -152      4.296   \n",
       "6987   131.705093          0.000170  ...            -166      4.529   \n",
       "6988   133.001270          0.007690  ...            -220      4.444   \n",
       "6989   132.181750          0.002850  ...            -236      4.447   \n",
       "6990   135.993300          0.010800  ...            -225      4.385   \n",
       "\n",
       "      koi_slogg_err1  koi_slogg_err2  koi_srad  koi_srad_err1  koi_srad_err2  \\\n",
       "0              0.064          -0.096     0.927          0.105         -0.061   \n",
       "1              0.044          -0.176     0.868          0.233         -0.078   \n",
       "2              0.053          -0.168     0.791          0.201         -0.067   \n",
       "3              0.070          -0.210     1.046          0.334         -0.133   \n",
       "4              0.054          -0.229     0.972          0.315         -0.105   \n",
       "...              ...             ...       ...            ...            ...   \n",
       "6986           0.231          -0.189     1.088          0.313         -0.228   \n",
       "6987           0.035          -0.196     0.903          0.237         -0.079   \n",
       "6988           0.056          -0.224     1.031          0.341         -0.114   \n",
       "6989           0.056          -0.224     1.041          0.341         -0.114   \n",
       "6990           0.054          -0.216     1.193          0.410         -0.137   \n",
       "\n",
       "             ra        dec  koi_kepmag  \n",
       "0     291.93423  48.141651      15.347  \n",
       "1     297.00482  48.134129      15.436  \n",
       "2     285.53461  48.285210      15.597  \n",
       "3     288.75488  48.226200      15.509  \n",
       "4     296.28613  48.224670      15.714  \n",
       "...         ...        ...         ...  \n",
       "6986  298.74921  46.973351      14.478  \n",
       "6987  297.18875  47.093819      14.082  \n",
       "6988  286.50937  47.163219      14.757  \n",
       "6989  294.16489  47.176281      15.385  \n",
       "6990  297.00977  47.121021      14.826  \n",
       "\n",
       "[6991 rows x 41 columns]"
      ]
     },
     "execution_count": 4,
     "metadata": {},
     "output_type": "execute_result"
    }
   ],
   "source": [
    "df = pd.read_csv(\"exoplanet_data.csv\")\n",
    "# Drop the null columns where all values are null\n",
    "df = df.dropna(axis='columns', how='all')\n",
    "# Drop the null rows\n",
    "df = df.dropna()\n",
    "df"
   ]
  },
  {
   "cell_type": "markdown",
   "metadata": {},
   "source": [
    "# Select X and y Values"
   ]
  },
  {
   "cell_type": "code",
   "execution_count": 5,
   "metadata": {},
   "outputs": [],
   "source": [
    "X = df.drop(\"koi_disposition\", axis=1)\n",
    "y = df[\"koi_disposition\"]\n"
   ]
  },
  {
   "cell_type": "code",
   "execution_count": 6,
   "metadata": {},
   "outputs": [
    {
     "data": {
      "text/plain": [
       "array([0.09637971, 0.05997421, 0.10400921, 0.03485705, 0.02205775,\n",
       "       0.01846579, 0.01672456, 0.01411139, 0.02295634, 0.02490188,\n",
       "       0.01909358, 0.01058206, 0.01034354, 0.02343606, 0.03245116,\n",
       "       0.03487151, 0.01827992, 0.01351125, 0.01425356, 0.05275884,\n",
       "       0.03566175, 0.03282569, 0.01543989, 0.0179825 , 0.01880554,\n",
       "       0.01515427, 0.05629572, 0.00355853, 0.00943135, 0.03374463,\n",
       "       0.02660608, 0.00926577, 0.00853221, 0.01033403, 0.00912443,\n",
       "       0.01132729, 0.00852455, 0.01170659, 0.01114951, 0.01051031])"
      ]
     },
     "execution_count": 6,
     "metadata": {},
     "output_type": "execute_result"
    }
   ],
   "source": [
    "from sklearn.ensemble import RandomForestClassifier\n",
    "rf = RandomForestClassifier(n_estimators=200)\n",
    "rf = rf.fit(X, y)\n",
    "importances = rf.feature_importances_\n",
    "importances\n"
   ]
  },
  {
   "cell_type": "code",
   "execution_count": 7,
   "metadata": {},
   "outputs": [
    {
     "data": {
      "text/plain": [
       "[(0.10400920697574943, 'koi_fpflag_co'),\n",
       " (0.09637970790832685, 'koi_fpflag_nt'),\n",
       " (0.05997421487446636, 'koi_fpflag_ss'),\n",
       " (0.056295721236649075, 'koi_model_snr'),\n",
       " (0.05275883554368824, 'koi_prad'),\n",
       " (0.03566175032772698, 'koi_prad_err1'),\n",
       " (0.03487150757355986, 'koi_duration_err2'),\n",
       " (0.0348570485468423, 'koi_fpflag_ec'),\n",
       " (0.03374462558818084, 'koi_steff_err1'),\n",
       " (0.032825685192983664, 'koi_prad_err2'),\n",
       " (0.03245116024042225, 'koi_duration_err1'),\n",
       " (0.026606079993383925, 'koi_steff_err2'),\n",
       " (0.024901883572770015, 'koi_time0bk_err2'),\n",
       " (0.023436057733915616, 'koi_duration'),\n",
       " (0.022956339050619983, 'koi_time0bk_err1'),\n",
       " (0.022057745278319982, 'koi_period'),\n",
       " (0.01909358045408497, 'koi_impact'),\n",
       " (0.018805540966595858, 'koi_insol_err1'),\n",
       " (0.018465794291631723, 'koi_period_err1'),\n",
       " (0.01827991801020987, 'koi_depth'),\n",
       " (0.017982501937494316, 'koi_insol'),\n",
       " (0.016724561908690008, 'koi_period_err2'),\n",
       " (0.01543989118367416, 'koi_teq'),\n",
       " (0.015154274653550596, 'koi_insol_err2'),\n",
       " (0.014253560885527771, 'koi_depth_err2'),\n",
       " (0.014111392266784649, 'koi_time0bk'),\n",
       " (0.013511248938717451, 'koi_depth_err1'),\n",
       " (0.011706586728135217, 'ra'),\n",
       " (0.011327292832596543, 'koi_srad_err1'),\n",
       " (0.011149509759554341, 'dec'),\n",
       " (0.010582059220288355, 'koi_impact_err1'),\n",
       " (0.01051030807002404, 'koi_kepmag'),\n",
       " (0.010343537976238281, 'koi_impact_err2'),\n",
       " (0.010334026670319027, 'koi_slogg_err2'),\n",
       " (0.009431348927098243, 'koi_steff'),\n",
       " (0.00926576501668674, 'koi_slogg'),\n",
       " (0.009124429101382801, 'koi_srad'),\n",
       " (0.008532211354938958, 'koi_slogg_err1'),\n",
       " (0.008524554245199881, 'koi_srad_err2'),\n",
       " (0.003558534962970907, 'koi_tce_plnt_num')]"
      ]
     },
     "execution_count": 7,
     "metadata": {},
     "output_type": "execute_result"
    }
   ],
   "source": [
    "sorted(zip(rf.feature_importances_, X.keys()), reverse=True)\n"
   ]
  },
  {
   "cell_type": "code",
   "execution_count": 8,
   "metadata": {},
   "outputs": [],
   "source": [
    "# Set features. This will also be used as your x values.\n",
    "selected_features = df[['koi_fpflag_co', 'koi_fpflag_nt', 'koi_fpflag_ss', 'koi_model_snr', 'koi_prad']]\n"
   ]
  },
  {
   "cell_type": "markdown",
   "metadata": {},
   "source": [
    "# Create a Train Test Split"
   ]
  },
  {
   "cell_type": "code",
   "execution_count": 9,
   "metadata": {},
   "outputs": [],
   "source": [
    "from sklearn.model_selection import train_test_split\n",
    "X_train, X_test, y_train, y_test = train_test_split(selected_features, y, random_state=42)\n"
   ]
  },
  {
   "cell_type": "code",
   "execution_count": 10,
   "metadata": {},
   "outputs": [
    {
     "data": {
      "text/html": [
       "<div>\n",
       "<style scoped>\n",
       "    .dataframe tbody tr th:only-of-type {\n",
       "        vertical-align: middle;\n",
       "    }\n",
       "\n",
       "    .dataframe tbody tr th {\n",
       "        vertical-align: top;\n",
       "    }\n",
       "\n",
       "    .dataframe thead th {\n",
       "        text-align: right;\n",
       "    }\n",
       "</style>\n",
       "<table border=\"1\" class=\"dataframe\">\n",
       "  <thead>\n",
       "    <tr style=\"text-align: right;\">\n",
       "      <th></th>\n",
       "      <th>koi_fpflag_co</th>\n",
       "      <th>koi_fpflag_nt</th>\n",
       "      <th>koi_fpflag_ss</th>\n",
       "      <th>koi_model_snr</th>\n",
       "      <th>koi_prad</th>\n",
       "    </tr>\n",
       "  </thead>\n",
       "  <tbody>\n",
       "    <tr>\n",
       "      <th>6122</th>\n",
       "      <td>0</td>\n",
       "      <td>0</td>\n",
       "      <td>0</td>\n",
       "      <td>10.8</td>\n",
       "      <td>1.24</td>\n",
       "    </tr>\n",
       "    <tr>\n",
       "      <th>6370</th>\n",
       "      <td>0</td>\n",
       "      <td>0</td>\n",
       "      <td>1</td>\n",
       "      <td>13.8</td>\n",
       "      <td>0.86</td>\n",
       "    </tr>\n",
       "    <tr>\n",
       "      <th>2879</th>\n",
       "      <td>0</td>\n",
       "      <td>1</td>\n",
       "      <td>0</td>\n",
       "      <td>254.3</td>\n",
       "      <td>3.21</td>\n",
       "    </tr>\n",
       "    <tr>\n",
       "      <th>107</th>\n",
       "      <td>0</td>\n",
       "      <td>0</td>\n",
       "      <td>0</td>\n",
       "      <td>38.4</td>\n",
       "      <td>2.25</td>\n",
       "    </tr>\n",
       "    <tr>\n",
       "      <th>29</th>\n",
       "      <td>0</td>\n",
       "      <td>0</td>\n",
       "      <td>0</td>\n",
       "      <td>696.5</td>\n",
       "      <td>12.21</td>\n",
       "    </tr>\n",
       "  </tbody>\n",
       "</table>\n",
       "</div>"
      ],
      "text/plain": [
       "      koi_fpflag_co  koi_fpflag_nt  koi_fpflag_ss  koi_model_snr  koi_prad\n",
       "6122              0              0              0           10.8      1.24\n",
       "6370              0              0              1           13.8      0.86\n",
       "2879              0              1              0          254.3      3.21\n",
       "107               0              0              0           38.4      2.25\n",
       "29                0              0              0          696.5     12.21"
      ]
     },
     "execution_count": 10,
     "metadata": {},
     "output_type": "execute_result"
    }
   ],
   "source": [
    "X_train.head()"
   ]
  },
  {
   "cell_type": "markdown",
   "metadata": {},
   "source": [
    "# Pre-Processing"
   ]
  },
  {
   "cell_type": "code",
   "execution_count": 11,
   "metadata": {},
   "outputs": [],
   "source": [
    "# Scale your data\n",
    "from sklearn.preprocessing import StandardScaler\n",
    "X_scaler = StandardScaler().fit(X_train)\n",
    "X_train_scaled = X_scaler.transform(X_train)\n",
    "X_test_scaled = X_scaler.transform(X_test)\n"
   ]
  },
  {
   "cell_type": "markdown",
   "metadata": {},
   "source": [
    "# Train the Model and Tune Hyperparameters"
   ]
  },
  {
   "cell_type": "code",
   "execution_count": 12,
   "metadata": {},
   "outputs": [],
   "source": [
    "from sklearn.model_selection import GridSearchCV\n"
   ]
  },
  {
   "cell_type": "markdown",
   "metadata": {},
   "source": [
    "### Random Forest Model"
   ]
  },
  {
   "cell_type": "code",
   "execution_count": 150,
   "metadata": {},
   "outputs": [
    {
     "data": {
      "text/plain": [
       "RandomForestClassifier()"
      ]
     },
     "execution_count": 150,
     "metadata": {},
     "output_type": "execute_result"
    }
   ],
   "source": [
    "rf_model = RandomForestClassifier()\n",
    "rf_model"
   ]
  },
  {
   "cell_type": "code",
   "execution_count": 152,
   "metadata": {},
   "outputs": [],
   "source": [
    "param_grid = {'max_depth': [10, 20, 40], \n",
    "             \"n_estimators\": [200, 400, 800, 1600],\n",
    "             \"min_samples_leaf\": [1, 2, 5, 10]}\n",
    "rf_grid = GridSearchCV(rf_model, param_grid, verbose=3, cv=3)\n"
   ]
  },
  {
   "cell_type": "code",
   "execution_count": 153,
   "metadata": {},
   "outputs": [
    {
     "name": "stdout",
     "output_type": "stream",
     "text": [
      "Fitting 3 folds for each of 48 candidates, totalling 144 fits\n",
      "[CV] max_depth=10, min_samples_leaf=1, n_estimators=200 ..............\n"
     ]
    },
    {
     "name": "stderr",
     "output_type": "stream",
     "text": [
      "[Parallel(n_jobs=1)]: Using backend SequentialBackend with 1 concurrent workers.\n"
     ]
    },
    {
     "name": "stdout",
     "output_type": "stream",
     "text": [
      "[CV]  max_depth=10, min_samples_leaf=1, n_estimators=200, score=0.884, total=   0.7s\n",
      "[CV] max_depth=10, min_samples_leaf=1, n_estimators=200 ..............\n"
     ]
    },
    {
     "name": "stderr",
     "output_type": "stream",
     "text": [
      "[Parallel(n_jobs=1)]: Done   1 out of   1 | elapsed:    0.7s remaining:    0.0s\n"
     ]
    },
    {
     "name": "stdout",
     "output_type": "stream",
     "text": [
      "[CV]  max_depth=10, min_samples_leaf=1, n_estimators=200, score=0.867, total=   0.7s\n",
      "[CV] max_depth=10, min_samples_leaf=1, n_estimators=200 ..............\n"
     ]
    },
    {
     "name": "stderr",
     "output_type": "stream",
     "text": [
      "[Parallel(n_jobs=1)]: Done   2 out of   2 | elapsed:    1.4s remaining:    0.0s\n"
     ]
    },
    {
     "name": "stdout",
     "output_type": "stream",
     "text": [
      "[CV]  max_depth=10, min_samples_leaf=1, n_estimators=200, score=0.855, total=   0.9s\n",
      "[CV] max_depth=10, min_samples_leaf=1, n_estimators=400 ..............\n",
      "[CV]  max_depth=10, min_samples_leaf=1, n_estimators=400, score=0.884, total=   1.4s\n",
      "[CV] max_depth=10, min_samples_leaf=1, n_estimators=400 ..............\n",
      "[CV]  max_depth=10, min_samples_leaf=1, n_estimators=400, score=0.867, total=   1.2s\n",
      "[CV] max_depth=10, min_samples_leaf=1, n_estimators=400 ..............\n",
      "[CV]  max_depth=10, min_samples_leaf=1, n_estimators=400, score=0.855, total=   1.2s\n",
      "[CV] max_depth=10, min_samples_leaf=1, n_estimators=800 ..............\n",
      "[CV]  max_depth=10, min_samples_leaf=1, n_estimators=800, score=0.884, total=   2.3s\n",
      "[CV] max_depth=10, min_samples_leaf=1, n_estimators=800 ..............\n",
      "[CV]  max_depth=10, min_samples_leaf=1, n_estimators=800, score=0.867, total=   2.4s\n",
      "[CV] max_depth=10, min_samples_leaf=1, n_estimators=800 ..............\n",
      "[CV]  max_depth=10, min_samples_leaf=1, n_estimators=800, score=0.854, total=   3.3s\n",
      "[CV] max_depth=10, min_samples_leaf=1, n_estimators=1600 .............\n",
      "[CV]  max_depth=10, min_samples_leaf=1, n_estimators=1600, score=0.884, total=   7.7s\n",
      "[CV] max_depth=10, min_samples_leaf=1, n_estimators=1600 .............\n",
      "[CV]  max_depth=10, min_samples_leaf=1, n_estimators=1600, score=0.866, total=   6.7s\n",
      "[CV] max_depth=10, min_samples_leaf=1, n_estimators=1600 .............\n",
      "[CV]  max_depth=10, min_samples_leaf=1, n_estimators=1600, score=0.854, total=   7.3s\n",
      "[CV] max_depth=10, min_samples_leaf=2, n_estimators=200 ..............\n",
      "[CV]  max_depth=10, min_samples_leaf=2, n_estimators=200, score=0.887, total=   0.7s\n",
      "[CV] max_depth=10, min_samples_leaf=2, n_estimators=200 ..............\n",
      "[CV]  max_depth=10, min_samples_leaf=2, n_estimators=200, score=0.869, total=   0.6s\n",
      "[CV] max_depth=10, min_samples_leaf=2, n_estimators=200 ..............\n",
      "[CV]  max_depth=10, min_samples_leaf=2, n_estimators=200, score=0.854, total=   0.7s\n",
      "[CV] max_depth=10, min_samples_leaf=2, n_estimators=400 ..............\n",
      "[CV]  max_depth=10, min_samples_leaf=2, n_estimators=400, score=0.885, total=   1.2s\n",
      "[CV] max_depth=10, min_samples_leaf=2, n_estimators=400 ..............\n",
      "[CV]  max_depth=10, min_samples_leaf=2, n_estimators=400, score=0.870, total=   1.3s\n",
      "[CV] max_depth=10, min_samples_leaf=2, n_estimators=400 ..............\n",
      "[CV]  max_depth=10, min_samples_leaf=2, n_estimators=400, score=0.855, total=   1.2s\n",
      "[CV] max_depth=10, min_samples_leaf=2, n_estimators=800 ..............\n",
      "[CV]  max_depth=10, min_samples_leaf=2, n_estimators=800, score=0.885, total=   2.4s\n",
      "[CV] max_depth=10, min_samples_leaf=2, n_estimators=800 ..............\n",
      "[CV]  max_depth=10, min_samples_leaf=2, n_estimators=800, score=0.869, total=   2.4s\n",
      "[CV] max_depth=10, min_samples_leaf=2, n_estimators=800 ..............\n",
      "[CV]  max_depth=10, min_samples_leaf=2, n_estimators=800, score=0.855, total=   2.4s\n",
      "[CV] max_depth=10, min_samples_leaf=2, n_estimators=1600 .............\n",
      "[CV]  max_depth=10, min_samples_leaf=2, n_estimators=1600, score=0.885, total=   6.0s\n",
      "[CV] max_depth=10, min_samples_leaf=2, n_estimators=1600 .............\n",
      "[CV]  max_depth=10, min_samples_leaf=2, n_estimators=1600, score=0.869, total=   6.0s\n",
      "[CV] max_depth=10, min_samples_leaf=2, n_estimators=1600 .............\n",
      "[CV]  max_depth=10, min_samples_leaf=2, n_estimators=1600, score=0.855, total=   5.2s\n",
      "[CV] max_depth=10, min_samples_leaf=5, n_estimators=200 ..............\n",
      "[CV]  max_depth=10, min_samples_leaf=5, n_estimators=200, score=0.886, total=   0.7s\n",
      "[CV] max_depth=10, min_samples_leaf=5, n_estimators=200 ..............\n",
      "[CV]  max_depth=10, min_samples_leaf=5, n_estimators=200, score=0.868, total=   0.7s\n",
      "[CV] max_depth=10, min_samples_leaf=5, n_estimators=200 ..............\n",
      "[CV]  max_depth=10, min_samples_leaf=5, n_estimators=200, score=0.855, total=   0.7s\n",
      "[CV] max_depth=10, min_samples_leaf=5, n_estimators=400 ..............\n",
      "[CV]  max_depth=10, min_samples_leaf=5, n_estimators=400, score=0.884, total=   1.5s\n",
      "[CV] max_depth=10, min_samples_leaf=5, n_estimators=400 ..............\n",
      "[CV]  max_depth=10, min_samples_leaf=5, n_estimators=400, score=0.870, total=   1.3s\n",
      "[CV] max_depth=10, min_samples_leaf=5, n_estimators=400 ..............\n",
      "[CV]  max_depth=10, min_samples_leaf=5, n_estimators=400, score=0.855, total=   1.7s\n",
      "[CV] max_depth=10, min_samples_leaf=5, n_estimators=800 ..............\n",
      "[CV]  max_depth=10, min_samples_leaf=5, n_estimators=800, score=0.885, total=   2.9s\n",
      "[CV] max_depth=10, min_samples_leaf=5, n_estimators=800 ..............\n",
      "[CV]  max_depth=10, min_samples_leaf=5, n_estimators=800, score=0.871, total=   3.4s\n",
      "[CV] max_depth=10, min_samples_leaf=5, n_estimators=800 ..............\n",
      "[CV]  max_depth=10, min_samples_leaf=5, n_estimators=800, score=0.855, total=   4.2s\n",
      "[CV] max_depth=10, min_samples_leaf=5, n_estimators=1600 .............\n",
      "[CV]  max_depth=10, min_samples_leaf=5, n_estimators=1600, score=0.885, total=   7.0s\n",
      "[CV] max_depth=10, min_samples_leaf=5, n_estimators=1600 .............\n",
      "[CV]  max_depth=10, min_samples_leaf=5, n_estimators=1600, score=0.869, total=   6.2s\n",
      "[CV] max_depth=10, min_samples_leaf=5, n_estimators=1600 .............\n",
      "[CV]  max_depth=10, min_samples_leaf=5, n_estimators=1600, score=0.856, total=   6.0s\n",
      "[CV] max_depth=10, min_samples_leaf=10, n_estimators=200 .............\n",
      "[CV]  max_depth=10, min_samples_leaf=10, n_estimators=200, score=0.880, total=   0.7s\n",
      "[CV] max_depth=10, min_samples_leaf=10, n_estimators=200 .............\n",
      "[CV]  max_depth=10, min_samples_leaf=10, n_estimators=200, score=0.871, total=   0.8s\n",
      "[CV] max_depth=10, min_samples_leaf=10, n_estimators=200 .............\n",
      "[CV]  max_depth=10, min_samples_leaf=10, n_estimators=200, score=0.856, total=   0.7s\n",
      "[CV] max_depth=10, min_samples_leaf=10, n_estimators=400 .............\n",
      "[CV]  max_depth=10, min_samples_leaf=10, n_estimators=400, score=0.883, total=   1.4s\n",
      "[CV] max_depth=10, min_samples_leaf=10, n_estimators=400 .............\n",
      "[CV]  max_depth=10, min_samples_leaf=10, n_estimators=400, score=0.871, total=   1.4s\n",
      "[CV] max_depth=10, min_samples_leaf=10, n_estimators=400 .............\n",
      "[CV]  max_depth=10, min_samples_leaf=10, n_estimators=400, score=0.856, total=   1.5s\n",
      "[CV] max_depth=10, min_samples_leaf=10, n_estimators=800 .............\n",
      "[CV]  max_depth=10, min_samples_leaf=10, n_estimators=800, score=0.884, total=   3.3s\n",
      "[CV] max_depth=10, min_samples_leaf=10, n_estimators=800 .............\n",
      "[CV]  max_depth=10, min_samples_leaf=10, n_estimators=800, score=0.870, total=   2.9s\n",
      "[CV] max_depth=10, min_samples_leaf=10, n_estimators=800 .............\n",
      "[CV]  max_depth=10, min_samples_leaf=10, n_estimators=800, score=0.857, total=   2.7s\n",
      "[CV] max_depth=10, min_samples_leaf=10, n_estimators=1600 ............\n",
      "[CV]  max_depth=10, min_samples_leaf=10, n_estimators=1600, score=0.884, total=   6.0s\n",
      "[CV] max_depth=10, min_samples_leaf=10, n_estimators=1600 ............\n",
      "[CV]  max_depth=10, min_samples_leaf=10, n_estimators=1600, score=0.871, total=   8.1s\n",
      "[CV] max_depth=10, min_samples_leaf=10, n_estimators=1600 ............\n",
      "[CV]  max_depth=10, min_samples_leaf=10, n_estimators=1600, score=0.857, total=   6.5s\n",
      "[CV] max_depth=20, min_samples_leaf=1, n_estimators=200 ..............\n",
      "[CV]  max_depth=20, min_samples_leaf=1, n_estimators=200, score=0.868, total=   1.0s\n",
      "[CV] max_depth=20, min_samples_leaf=1, n_estimators=200 ..............\n",
      "[CV]  max_depth=20, min_samples_leaf=1, n_estimators=200, score=0.854, total=   0.9s\n",
      "[CV] max_depth=20, min_samples_leaf=1, n_estimators=200 ..............\n",
      "[CV]  max_depth=20, min_samples_leaf=1, n_estimators=200, score=0.838, total=   1.0s\n",
      "[CV] max_depth=20, min_samples_leaf=1, n_estimators=400 ..............\n",
      "[CV]  max_depth=20, min_samples_leaf=1, n_estimators=400, score=0.868, total=   2.4s\n",
      "[CV] max_depth=20, min_samples_leaf=1, n_estimators=400 ..............\n",
      "[CV]  max_depth=20, min_samples_leaf=1, n_estimators=400, score=0.854, total=   2.2s\n",
      "[CV] max_depth=20, min_samples_leaf=1, n_estimators=400 ..............\n",
      "[CV]  max_depth=20, min_samples_leaf=1, n_estimators=400, score=0.840, total=   1.9s\n",
      "[CV] max_depth=20, min_samples_leaf=1, n_estimators=800 ..............\n",
      "[CV]  max_depth=20, min_samples_leaf=1, n_estimators=800, score=0.867, total=   3.6s\n",
      "[CV] max_depth=20, min_samples_leaf=1, n_estimators=800 ..............\n"
     ]
    },
    {
     "name": "stdout",
     "output_type": "stream",
     "text": [
      "[CV]  max_depth=20, min_samples_leaf=1, n_estimators=800, score=0.852, total=   3.5s\n",
      "[CV] max_depth=20, min_samples_leaf=1, n_estimators=800 ..............\n",
      "[CV]  max_depth=20, min_samples_leaf=1, n_estimators=800, score=0.841, total=   3.4s\n",
      "[CV] max_depth=20, min_samples_leaf=1, n_estimators=1600 .............\n",
      "[CV]  max_depth=20, min_samples_leaf=1, n_estimators=1600, score=0.869, total=   7.7s\n",
      "[CV] max_depth=20, min_samples_leaf=1, n_estimators=1600 .............\n",
      "[CV]  max_depth=20, min_samples_leaf=1, n_estimators=1600, score=0.853, total=   7.6s\n",
      "[CV] max_depth=20, min_samples_leaf=1, n_estimators=1600 .............\n",
      "[CV]  max_depth=20, min_samples_leaf=1, n_estimators=1600, score=0.841, total=   7.4s\n",
      "[CV] max_depth=20, min_samples_leaf=2, n_estimators=200 ..............\n",
      "[CV]  max_depth=20, min_samples_leaf=2, n_estimators=200, score=0.877, total=   1.3s\n",
      "[CV] max_depth=20, min_samples_leaf=2, n_estimators=200 ..............\n",
      "[CV]  max_depth=20, min_samples_leaf=2, n_estimators=200, score=0.864, total=   1.2s\n",
      "[CV] max_depth=20, min_samples_leaf=2, n_estimators=200 ..............\n",
      "[CV]  max_depth=20, min_samples_leaf=2, n_estimators=200, score=0.849, total=   1.0s\n",
      "[CV] max_depth=20, min_samples_leaf=2, n_estimators=400 ..............\n",
      "[CV]  max_depth=20, min_samples_leaf=2, n_estimators=400, score=0.877, total=   1.9s\n",
      "[CV] max_depth=20, min_samples_leaf=2, n_estimators=400 ..............\n",
      "[CV]  max_depth=20, min_samples_leaf=2, n_estimators=400, score=0.862, total=   1.7s\n",
      "[CV] max_depth=20, min_samples_leaf=2, n_estimators=400 ..............\n",
      "[CV]  max_depth=20, min_samples_leaf=2, n_estimators=400, score=0.850, total=   1.7s\n",
      "[CV] max_depth=20, min_samples_leaf=2, n_estimators=800 ..............\n",
      "[CV]  max_depth=20, min_samples_leaf=2, n_estimators=800, score=0.876, total=   3.6s\n",
      "[CV] max_depth=20, min_samples_leaf=2, n_estimators=800 ..............\n",
      "[CV]  max_depth=20, min_samples_leaf=2, n_estimators=800, score=0.863, total=   3.4s\n",
      "[CV] max_depth=20, min_samples_leaf=2, n_estimators=800 ..............\n",
      "[CV]  max_depth=20, min_samples_leaf=2, n_estimators=800, score=0.850, total=   3.5s\n",
      "[CV] max_depth=20, min_samples_leaf=2, n_estimators=1600 .............\n",
      "[CV]  max_depth=20, min_samples_leaf=2, n_estimators=1600, score=0.877, total=   7.1s\n",
      "[CV] max_depth=20, min_samples_leaf=2, n_estimators=1600 .............\n",
      "[CV]  max_depth=20, min_samples_leaf=2, n_estimators=1600, score=0.864, total=   7.6s\n",
      "[CV] max_depth=20, min_samples_leaf=2, n_estimators=1600 .............\n",
      "[CV]  max_depth=20, min_samples_leaf=2, n_estimators=1600, score=0.851, total=   6.6s\n",
      "[CV] max_depth=20, min_samples_leaf=5, n_estimators=200 ..............\n",
      "[CV]  max_depth=20, min_samples_leaf=5, n_estimators=200, score=0.881, total=   0.8s\n",
      "[CV] max_depth=20, min_samples_leaf=5, n_estimators=200 ..............\n",
      "[CV]  max_depth=20, min_samples_leaf=5, n_estimators=200, score=0.871, total=   0.8s\n",
      "[CV] max_depth=20, min_samples_leaf=5, n_estimators=200 ..............\n",
      "[CV]  max_depth=20, min_samples_leaf=5, n_estimators=200, score=0.852, total=   0.9s\n",
      "[CV] max_depth=20, min_samples_leaf=5, n_estimators=400 ..............\n",
      "[CV]  max_depth=20, min_samples_leaf=5, n_estimators=400, score=0.882, total=   1.7s\n",
      "[CV] max_depth=20, min_samples_leaf=5, n_estimators=400 ..............\n",
      "[CV]  max_depth=20, min_samples_leaf=5, n_estimators=400, score=0.869, total=   2.1s\n",
      "[CV] max_depth=20, min_samples_leaf=5, n_estimators=400 ..............\n",
      "[CV]  max_depth=20, min_samples_leaf=5, n_estimators=400, score=0.854, total=   2.2s\n",
      "[CV] max_depth=20, min_samples_leaf=5, n_estimators=800 ..............\n",
      "[CV]  max_depth=20, min_samples_leaf=5, n_estimators=800, score=0.882, total=   3.5s\n",
      "[CV] max_depth=20, min_samples_leaf=5, n_estimators=800 ..............\n",
      "[CV]  max_depth=20, min_samples_leaf=5, n_estimators=800, score=0.870, total=   3.1s\n",
      "[CV] max_depth=20, min_samples_leaf=5, n_estimators=800 ..............\n",
      "[CV]  max_depth=20, min_samples_leaf=5, n_estimators=800, score=0.853, total=   3.2s\n",
      "[CV] max_depth=20, min_samples_leaf=5, n_estimators=1600 .............\n",
      "[CV]  max_depth=20, min_samples_leaf=5, n_estimators=1600, score=0.882, total=   7.3s\n",
      "[CV] max_depth=20, min_samples_leaf=5, n_estimators=1600 .............\n",
      "[CV]  max_depth=20, min_samples_leaf=5, n_estimators=1600, score=0.868, total=   7.9s\n",
      "[CV] max_depth=20, min_samples_leaf=5, n_estimators=1600 .............\n",
      "[CV]  max_depth=20, min_samples_leaf=5, n_estimators=1600, score=0.855, total=   7.6s\n",
      "[CV] max_depth=20, min_samples_leaf=10, n_estimators=200 .............\n",
      "[CV]  max_depth=20, min_samples_leaf=10, n_estimators=200, score=0.883, total=   0.7s\n",
      "[CV] max_depth=20, min_samples_leaf=10, n_estimators=200 .............\n",
      "[CV]  max_depth=20, min_samples_leaf=10, n_estimators=200, score=0.871, total=   0.7s\n",
      "[CV] max_depth=20, min_samples_leaf=10, n_estimators=200 .............\n",
      "[CV]  max_depth=20, min_samples_leaf=10, n_estimators=200, score=0.857, total=   0.7s\n",
      "[CV] max_depth=20, min_samples_leaf=10, n_estimators=400 .............\n",
      "[CV]  max_depth=20, min_samples_leaf=10, n_estimators=400, score=0.885, total=   1.4s\n",
      "[CV] max_depth=20, min_samples_leaf=10, n_estimators=400 .............\n",
      "[CV]  max_depth=20, min_samples_leaf=10, n_estimators=400, score=0.872, total=   1.4s\n",
      "[CV] max_depth=20, min_samples_leaf=10, n_estimators=400 .............\n",
      "[CV]  max_depth=20, min_samples_leaf=10, n_estimators=400, score=0.855, total=   1.4s\n",
      "[CV] max_depth=20, min_samples_leaf=10, n_estimators=800 .............\n",
      "[CV]  max_depth=20, min_samples_leaf=10, n_estimators=800, score=0.887, total=   2.9s\n",
      "[CV] max_depth=20, min_samples_leaf=10, n_estimators=800 .............\n",
      "[CV]  max_depth=20, min_samples_leaf=10, n_estimators=800, score=0.872, total=   2.9s\n",
      "[CV] max_depth=20, min_samples_leaf=10, n_estimators=800 .............\n",
      "[CV]  max_depth=20, min_samples_leaf=10, n_estimators=800, score=0.855, total=   3.2s\n",
      "[CV] max_depth=20, min_samples_leaf=10, n_estimators=1600 ............\n",
      "[CV]  max_depth=20, min_samples_leaf=10, n_estimators=1600, score=0.886, total=   7.9s\n",
      "[CV] max_depth=20, min_samples_leaf=10, n_estimators=1600 ............\n",
      "[CV]  max_depth=20, min_samples_leaf=10, n_estimators=1600, score=0.871, total=   8.1s\n",
      "[CV] max_depth=20, min_samples_leaf=10, n_estimators=1600 ............\n",
      "[CV]  max_depth=20, min_samples_leaf=10, n_estimators=1600, score=0.856, total=   6.2s\n",
      "[CV] max_depth=40, min_samples_leaf=1, n_estimators=200 ..............\n",
      "[CV]  max_depth=40, min_samples_leaf=1, n_estimators=200, score=0.862, total=   1.8s\n",
      "[CV] max_depth=40, min_samples_leaf=1, n_estimators=200 ..............\n",
      "[CV]  max_depth=40, min_samples_leaf=1, n_estimators=200, score=0.854, total=   1.3s\n",
      "[CV] max_depth=40, min_samples_leaf=1, n_estimators=200 ..............\n",
      "[CV]  max_depth=40, min_samples_leaf=1, n_estimators=200, score=0.839, total=   1.2s\n",
      "[CV] max_depth=40, min_samples_leaf=1, n_estimators=400 ..............\n",
      "[CV]  max_depth=40, min_samples_leaf=1, n_estimators=400, score=0.865, total=   3.2s\n",
      "[CV] max_depth=40, min_samples_leaf=1, n_estimators=400 ..............\n",
      "[CV]  max_depth=40, min_samples_leaf=1, n_estimators=400, score=0.854, total=   2.3s\n",
      "[CV] max_depth=40, min_samples_leaf=1, n_estimators=400 ..............\n",
      "[CV]  max_depth=40, min_samples_leaf=1, n_estimators=400, score=0.840, total=   2.3s\n",
      "[CV] max_depth=40, min_samples_leaf=1, n_estimators=800 ..............\n",
      "[CV]  max_depth=40, min_samples_leaf=1, n_estimators=800, score=0.865, total=   3.5s\n",
      "[CV] max_depth=40, min_samples_leaf=1, n_estimators=800 ..............\n",
      "[CV]  max_depth=40, min_samples_leaf=1, n_estimators=800, score=0.850, total=   3.6s\n",
      "[CV] max_depth=40, min_samples_leaf=1, n_estimators=800 ..............\n",
      "[CV]  max_depth=40, min_samples_leaf=1, n_estimators=800, score=0.839, total=   4.3s\n",
      "[CV] max_depth=40, min_samples_leaf=1, n_estimators=1600 .............\n",
      "[CV]  max_depth=40, min_samples_leaf=1, n_estimators=1600, score=0.866, total=   9.0s\n",
      "[CV] max_depth=40, min_samples_leaf=1, n_estimators=1600 .............\n",
      "[CV]  max_depth=40, min_samples_leaf=1, n_estimators=1600, score=0.851, total=   8.9s\n",
      "[CV] max_depth=40, min_samples_leaf=1, n_estimators=1600 .............\n",
      "[CV]  max_depth=40, min_samples_leaf=1, n_estimators=1600, score=0.839, total=   8.0s\n",
      "[CV] max_depth=40, min_samples_leaf=2, n_estimators=200 ..............\n"
     ]
    },
    {
     "name": "stdout",
     "output_type": "stream",
     "text": [
      "[CV]  max_depth=40, min_samples_leaf=2, n_estimators=200, score=0.874, total=   2.2s\n",
      "[CV] max_depth=40, min_samples_leaf=2, n_estimators=200 ..............\n",
      "[CV]  max_depth=40, min_samples_leaf=2, n_estimators=200, score=0.863, total=   1.0s\n",
      "[CV] max_depth=40, min_samples_leaf=2, n_estimators=200 ..............\n",
      "[CV]  max_depth=40, min_samples_leaf=2, n_estimators=200, score=0.847, total=   1.0s\n",
      "[CV] max_depth=40, min_samples_leaf=2, n_estimators=400 ..............\n",
      "[CV]  max_depth=40, min_samples_leaf=2, n_estimators=400, score=0.875, total=   2.5s\n",
      "[CV] max_depth=40, min_samples_leaf=2, n_estimators=400 ..............\n",
      "[CV]  max_depth=40, min_samples_leaf=2, n_estimators=400, score=0.858, total=   2.4s\n",
      "[CV] max_depth=40, min_samples_leaf=2, n_estimators=400 ..............\n",
      "[CV]  max_depth=40, min_samples_leaf=2, n_estimators=400, score=0.851, total=   1.9s\n",
      "[CV] max_depth=40, min_samples_leaf=2, n_estimators=800 ..............\n",
      "[CV]  max_depth=40, min_samples_leaf=2, n_estimators=800, score=0.875, total=   4.8s\n",
      "[CV] max_depth=40, min_samples_leaf=2, n_estimators=800 ..............\n",
      "[CV]  max_depth=40, min_samples_leaf=2, n_estimators=800, score=0.861, total=   7.7s\n",
      "[CV] max_depth=40, min_samples_leaf=2, n_estimators=800 ..............\n",
      "[CV]  max_depth=40, min_samples_leaf=2, n_estimators=800, score=0.848, total=   5.5s\n",
      "[CV] max_depth=40, min_samples_leaf=2, n_estimators=1600 .............\n",
      "[CV]  max_depth=40, min_samples_leaf=2, n_estimators=1600, score=0.873, total=   6.8s\n",
      "[CV] max_depth=40, min_samples_leaf=2, n_estimators=1600 .............\n",
      "[CV]  max_depth=40, min_samples_leaf=2, n_estimators=1600, score=0.863, total=   7.9s\n",
      "[CV] max_depth=40, min_samples_leaf=2, n_estimators=1600 .............\n",
      "[CV]  max_depth=40, min_samples_leaf=2, n_estimators=1600, score=0.849, total=   7.9s\n",
      "[CV] max_depth=40, min_samples_leaf=5, n_estimators=200 ..............\n",
      "[CV]  max_depth=40, min_samples_leaf=5, n_estimators=200, score=0.879, total=   0.8s\n",
      "[CV] max_depth=40, min_samples_leaf=5, n_estimators=200 ..............\n",
      "[CV]  max_depth=40, min_samples_leaf=5, n_estimators=200, score=0.867, total=   0.8s\n",
      "[CV] max_depth=40, min_samples_leaf=5, n_estimators=200 ..............\n",
      "[CV]  max_depth=40, min_samples_leaf=5, n_estimators=200, score=0.852, total=   0.8s\n",
      "[CV] max_depth=40, min_samples_leaf=5, n_estimators=400 ..............\n",
      "[CV]  max_depth=40, min_samples_leaf=5, n_estimators=400, score=0.879, total=   1.5s\n",
      "[CV] max_depth=40, min_samples_leaf=5, n_estimators=400 ..............\n",
      "[CV]  max_depth=40, min_samples_leaf=5, n_estimators=400, score=0.868, total=   1.5s\n",
      "[CV] max_depth=40, min_samples_leaf=5, n_estimators=400 ..............\n",
      "[CV]  max_depth=40, min_samples_leaf=5, n_estimators=400, score=0.855, total=   1.5s\n",
      "[CV] max_depth=40, min_samples_leaf=5, n_estimators=800 ..............\n",
      "[CV]  max_depth=40, min_samples_leaf=5, n_estimators=800, score=0.883, total=   3.1s\n",
      "[CV] max_depth=40, min_samples_leaf=5, n_estimators=800 ..............\n",
      "[CV]  max_depth=40, min_samples_leaf=5, n_estimators=800, score=0.867, total=   3.0s\n",
      "[CV] max_depth=40, min_samples_leaf=5, n_estimators=800 ..............\n",
      "[CV]  max_depth=40, min_samples_leaf=5, n_estimators=800, score=0.853, total=   3.0s\n",
      "[CV] max_depth=40, min_samples_leaf=5, n_estimators=1600 .............\n",
      "[CV]  max_depth=40, min_samples_leaf=5, n_estimators=1600, score=0.882, total=   7.2s\n",
      "[CV] max_depth=40, min_samples_leaf=5, n_estimators=1600 .............\n",
      "[CV]  max_depth=40, min_samples_leaf=5, n_estimators=1600, score=0.867, total=   5.8s\n",
      "[CV] max_depth=40, min_samples_leaf=5, n_estimators=1600 .............\n",
      "[CV]  max_depth=40, min_samples_leaf=5, n_estimators=1600, score=0.854, total=   6.3s\n",
      "[CV] max_depth=40, min_samples_leaf=10, n_estimators=200 .............\n",
      "[CV]  max_depth=40, min_samples_leaf=10, n_estimators=200, score=0.887, total=   0.7s\n",
      "[CV] max_depth=40, min_samples_leaf=10, n_estimators=200 .............\n",
      "[CV]  max_depth=40, min_samples_leaf=10, n_estimators=200, score=0.871, total=   0.7s\n",
      "[CV] max_depth=40, min_samples_leaf=10, n_estimators=200 .............\n",
      "[CV]  max_depth=40, min_samples_leaf=10, n_estimators=200, score=0.856, total=   0.8s\n",
      "[CV] max_depth=40, min_samples_leaf=10, n_estimators=400 .............\n",
      "[CV]  max_depth=40, min_samples_leaf=10, n_estimators=400, score=0.886, total=   1.8s\n",
      "[CV] max_depth=40, min_samples_leaf=10, n_estimators=400 .............\n",
      "[CV]  max_depth=40, min_samples_leaf=10, n_estimators=400, score=0.870, total=   1.8s\n",
      "[CV] max_depth=40, min_samples_leaf=10, n_estimators=400 .............\n",
      "[CV]  max_depth=40, min_samples_leaf=10, n_estimators=400, score=0.854, total=   1.4s\n",
      "[CV] max_depth=40, min_samples_leaf=10, n_estimators=800 .............\n",
      "[CV]  max_depth=40, min_samples_leaf=10, n_estimators=800, score=0.886, total=   3.2s\n",
      "[CV] max_depth=40, min_samples_leaf=10, n_estimators=800 .............\n",
      "[CV]  max_depth=40, min_samples_leaf=10, n_estimators=800, score=0.871, total=   2.9s\n",
      "[CV] max_depth=40, min_samples_leaf=10, n_estimators=800 .............\n",
      "[CV]  max_depth=40, min_samples_leaf=10, n_estimators=800, score=0.856, total=   2.8s\n",
      "[CV] max_depth=40, min_samples_leaf=10, n_estimators=1600 ............\n",
      "[CV]  max_depth=40, min_samples_leaf=10, n_estimators=1600, score=0.886, total=   7.8s\n",
      "[CV] max_depth=40, min_samples_leaf=10, n_estimators=1600 ............\n",
      "[CV]  max_depth=40, min_samples_leaf=10, n_estimators=1600, score=0.871, total=   5.6s\n",
      "[CV] max_depth=40, min_samples_leaf=10, n_estimators=1600 ............\n",
      "[CV]  max_depth=40, min_samples_leaf=10, n_estimators=1600, score=0.856, total=   5.5s\n"
     ]
    },
    {
     "name": "stderr",
     "output_type": "stream",
     "text": [
      "[Parallel(n_jobs=1)]: Done 144 out of 144 | elapsed:  7.9min finished\n"
     ]
    },
    {
     "data": {
      "text/plain": [
       "GridSearchCV(cv=3, estimator=RandomForestClassifier(),\n",
       "             param_grid={'max_depth': [10, 20, 40],\n",
       "                         'min_samples_leaf': [1, 2, 5, 10],\n",
       "                         'n_estimators': [200, 400, 800, 1600]},\n",
       "             verbose=3)"
      ]
     },
     "execution_count": 153,
     "metadata": {},
     "output_type": "execute_result"
    }
   ],
   "source": [
    "rf_grid.fit(X_train_scaled, y_train)"
   ]
  },
  {
   "cell_type": "code",
   "execution_count": 154,
   "metadata": {},
   "outputs": [
    {
     "name": "stdout",
     "output_type": "stream",
     "text": [
      "{'max_depth': 20, 'min_samples_leaf': 10, 'n_estimators': 800}\n",
      "0.8714445423930398\n"
     ]
    }
   ],
   "source": [
    "print(rf_grid.best_params_)\n",
    "print(rf_grid.best_score_)"
   ]
  },
  {
   "cell_type": "markdown",
   "metadata": {},
   "source": [
    "### K Nearest Neighbor Model"
   ]
  },
  {
   "cell_type": "code",
   "execution_count": 161,
   "metadata": {},
   "outputs": [
    {
     "name": "stdout",
     "output_type": "stream",
     "text": [
      "Fitting 3 folds for each of 60 candidates, totalling 180 fits\n",
      "[CV] leaf_size=5, n_neighbors=1 ......................................\n",
      "[CV] .......... leaf_size=5, n_neighbors=1, score=0.817, total=   0.1s\n",
      "[CV] leaf_size=5, n_neighbors=1 ......................................\n",
      "[CV] .......... leaf_size=5, n_neighbors=1, score=0.819, total=   0.1s\n",
      "[CV] leaf_size=5, n_neighbors=1 ......................................\n"
     ]
    },
    {
     "name": "stderr",
     "output_type": "stream",
     "text": [
      "[Parallel(n_jobs=1)]: Using backend SequentialBackend with 1 concurrent workers.\n",
      "[Parallel(n_jobs=1)]: Done   1 out of   1 | elapsed:    0.1s remaining:    0.0s\n",
      "[Parallel(n_jobs=1)]: Done   2 out of   2 | elapsed:    0.2s remaining:    0.0s\n"
     ]
    },
    {
     "name": "stdout",
     "output_type": "stream",
     "text": [
      "[CV] .......... leaf_size=5, n_neighbors=1, score=0.816, total=   0.1s\n",
      "[CV] leaf_size=5, n_neighbors=3 ......................................\n",
      "[CV] .......... leaf_size=5, n_neighbors=3, score=0.849, total=   0.1s\n",
      "[CV] leaf_size=5, n_neighbors=3 ......................................\n",
      "[CV] .......... leaf_size=5, n_neighbors=3, score=0.845, total=   0.1s\n",
      "[CV] leaf_size=5, n_neighbors=3 ......................................\n",
      "[CV] .......... leaf_size=5, n_neighbors=3, score=0.842, total=   0.1s\n",
      "[CV] leaf_size=5, n_neighbors=5 ......................................\n",
      "[CV] .......... leaf_size=5, n_neighbors=5, score=0.858, total=   0.1s\n",
      "[CV] leaf_size=5, n_neighbors=5 ......................................\n",
      "[CV] .......... leaf_size=5, n_neighbors=5, score=0.849, total=   0.1s\n",
      "[CV] leaf_size=5, n_neighbors=5 ......................................\n",
      "[CV] .......... leaf_size=5, n_neighbors=5, score=0.844, total=   0.1s\n",
      "[CV] leaf_size=5, n_neighbors=7 ......................................\n",
      "[CV] .......... leaf_size=5, n_neighbors=7, score=0.859, total=   0.1s\n",
      "[CV] leaf_size=5, n_neighbors=7 ......................................\n",
      "[CV] .......... leaf_size=5, n_neighbors=7, score=0.852, total=   0.2s\n",
      "[CV] leaf_size=5, n_neighbors=7 ......................................\n",
      "[CV] .......... leaf_size=5, n_neighbors=7, score=0.848, total=   0.2s\n",
      "[CV] leaf_size=5, n_neighbors=9 ......................................\n",
      "[CV] .......... leaf_size=5, n_neighbors=9, score=0.866, total=   0.1s\n",
      "[CV] leaf_size=5, n_neighbors=9 ......................................\n",
      "[CV] .......... leaf_size=5, n_neighbors=9, score=0.861, total=   0.1s\n",
      "[CV] leaf_size=5, n_neighbors=9 ......................................\n",
      "[CV] .......... leaf_size=5, n_neighbors=9, score=0.850, total=   0.1s\n",
      "[CV] leaf_size=5, n_neighbors=11 .....................................\n",
      "[CV] ......... leaf_size=5, n_neighbors=11, score=0.868, total=   0.1s\n",
      "[CV] leaf_size=5, n_neighbors=11 .....................................\n",
      "[CV] ......... leaf_size=5, n_neighbors=11, score=0.854, total=   0.1s\n",
      "[CV] leaf_size=5, n_neighbors=11 .....................................\n",
      "[CV] ......... leaf_size=5, n_neighbors=11, score=0.848, total=   0.2s\n",
      "[CV] leaf_size=5, n_neighbors=13 .....................................\n",
      "[CV] ......... leaf_size=5, n_neighbors=13, score=0.871, total=   0.1s\n",
      "[CV] leaf_size=5, n_neighbors=13 .....................................\n",
      "[CV] ......... leaf_size=5, n_neighbors=13, score=0.851, total=   0.1s\n",
      "[CV] leaf_size=5, n_neighbors=13 .....................................\n",
      "[CV] ......... leaf_size=5, n_neighbors=13, score=0.852, total=   0.1s\n",
      "[CV] leaf_size=5, n_neighbors=15 .....................................\n",
      "[CV] ......... leaf_size=5, n_neighbors=15, score=0.876, total=   0.1s\n",
      "[CV] leaf_size=5, n_neighbors=15 .....................................\n",
      "[CV] ......... leaf_size=5, n_neighbors=15, score=0.856, total=   0.1s\n",
      "[CV] leaf_size=5, n_neighbors=15 .....................................\n",
      "[CV] ......... leaf_size=5, n_neighbors=15, score=0.849, total=   0.1s\n",
      "[CV] leaf_size=5, n_neighbors=17 .....................................\n",
      "[CV] ......... leaf_size=5, n_neighbors=17, score=0.874, total=   0.1s\n",
      "[CV] leaf_size=5, n_neighbors=17 .....................................\n",
      "[CV] ......... leaf_size=5, n_neighbors=17, score=0.860, total=   0.1s\n",
      "[CV] leaf_size=5, n_neighbors=17 .....................................\n",
      "[CV] ......... leaf_size=5, n_neighbors=17, score=0.848, total=   0.1s\n",
      "[CV] leaf_size=5, n_neighbors=19 .....................................\n",
      "[CV] ......... leaf_size=5, n_neighbors=19, score=0.876, total=   0.1s\n",
      "[CV] leaf_size=5, n_neighbors=19 .....................................\n",
      "[CV] ......... leaf_size=5, n_neighbors=19, score=0.859, total=   0.1s\n",
      "[CV] leaf_size=5, n_neighbors=19 .....................................\n",
      "[CV] ......... leaf_size=5, n_neighbors=19, score=0.851, total=   0.1s\n",
      "[CV] leaf_size=10, n_neighbors=1 .....................................\n",
      "[CV] ......... leaf_size=10, n_neighbors=1, score=0.817, total=   0.1s\n",
      "[CV] leaf_size=10, n_neighbors=1 .....................................\n",
      "[CV] ......... leaf_size=10, n_neighbors=1, score=0.819, total=   0.2s\n",
      "[CV] leaf_size=10, n_neighbors=1 .....................................\n",
      "[CV] ......... leaf_size=10, n_neighbors=1, score=0.816, total=   0.1s\n",
      "[CV] leaf_size=10, n_neighbors=3 .....................................\n",
      "[CV] ......... leaf_size=10, n_neighbors=3, score=0.849, total=   0.1s\n",
      "[CV] leaf_size=10, n_neighbors=3 .....................................\n",
      "[CV] ......... leaf_size=10, n_neighbors=3, score=0.845, total=   0.1s\n",
      "[CV] leaf_size=10, n_neighbors=3 .....................................\n",
      "[CV] ......... leaf_size=10, n_neighbors=3, score=0.842, total=   0.1s\n",
      "[CV] leaf_size=10, n_neighbors=5 .....................................\n",
      "[CV] ......... leaf_size=10, n_neighbors=5, score=0.858, total=   0.1s\n",
      "[CV] leaf_size=10, n_neighbors=5 .....................................\n",
      "[CV] ......... leaf_size=10, n_neighbors=5, score=0.849, total=   0.1s\n",
      "[CV] leaf_size=10, n_neighbors=5 .....................................\n",
      "[CV] ......... leaf_size=10, n_neighbors=5, score=0.845, total=   0.2s\n",
      "[CV] leaf_size=10, n_neighbors=7 .....................................\n",
      "[CV] ......... leaf_size=10, n_neighbors=7, score=0.859, total=   0.1s\n",
      "[CV] leaf_size=10, n_neighbors=7 .....................................\n",
      "[CV] ......... leaf_size=10, n_neighbors=7, score=0.852, total=   0.1s\n",
      "[CV] leaf_size=10, n_neighbors=7 .....................................\n",
      "[CV] ......... leaf_size=10, n_neighbors=7, score=0.848, total=   0.1s\n",
      "[CV] leaf_size=10, n_neighbors=9 .....................................\n",
      "[CV] ......... leaf_size=10, n_neighbors=9, score=0.866, total=   0.3s\n",
      "[CV] leaf_size=10, n_neighbors=9 .....................................\n",
      "[CV] ......... leaf_size=10, n_neighbors=9, score=0.861, total=   0.1s\n",
      "[CV] leaf_size=10, n_neighbors=9 .....................................\n",
      "[CV] ......... leaf_size=10, n_neighbors=9, score=0.850, total=   0.1s\n",
      "[CV] leaf_size=10, n_neighbors=11 ....................................\n",
      "[CV] ........ leaf_size=10, n_neighbors=11, score=0.868, total=   0.1s\n",
      "[CV] leaf_size=10, n_neighbors=11 ....................................\n",
      "[CV] ........ leaf_size=10, n_neighbors=11, score=0.854, total=   0.1s\n",
      "[CV] leaf_size=10, n_neighbors=11 ....................................\n",
      "[CV] ........ leaf_size=10, n_neighbors=11, score=0.848, total=   0.1s\n",
      "[CV] leaf_size=10, n_neighbors=13 ....................................\n",
      "[CV] ........ leaf_size=10, n_neighbors=13, score=0.871, total=   0.1s\n",
      "[CV] leaf_size=10, n_neighbors=13 ....................................\n",
      "[CV] ........ leaf_size=10, n_neighbors=13, score=0.851, total=   0.2s\n",
      "[CV] leaf_size=10, n_neighbors=13 ....................................\n",
      "[CV] ........ leaf_size=10, n_neighbors=13, score=0.852, total=   0.1s\n",
      "[CV] leaf_size=10, n_neighbors=15 ....................................\n",
      "[CV] ........ leaf_size=10, n_neighbors=15, score=0.876, total=   0.1s\n",
      "[CV] leaf_size=10, n_neighbors=15 ....................................\n",
      "[CV] ........ leaf_size=10, n_neighbors=15, score=0.856, total=   0.1s\n",
      "[CV] leaf_size=10, n_neighbors=15 ....................................\n",
      "[CV] ........ leaf_size=10, n_neighbors=15, score=0.849, total=   0.1s\n",
      "[CV] leaf_size=10, n_neighbors=17 ....................................\n",
      "[CV] ........ leaf_size=10, n_neighbors=17, score=0.874, total=   0.1s\n",
      "[CV] leaf_size=10, n_neighbors=17 ....................................\n",
      "[CV] ........ leaf_size=10, n_neighbors=17, score=0.860, total=   0.1s\n",
      "[CV] leaf_size=10, n_neighbors=17 ....................................\n",
      "[CV] ........ leaf_size=10, n_neighbors=17, score=0.848, total=   0.1s\n",
      "[CV] leaf_size=10, n_neighbors=19 ....................................\n",
      "[CV] ........ leaf_size=10, n_neighbors=19, score=0.876, total=   0.1s\n",
      "[CV] leaf_size=10, n_neighbors=19 ....................................\n",
      "[CV] ........ leaf_size=10, n_neighbors=19, score=0.859, total=   0.1s\n",
      "[CV] leaf_size=10, n_neighbors=19 ....................................\n",
      "[CV] ........ leaf_size=10, n_neighbors=19, score=0.851, total=   0.2s\n",
      "[CV] leaf_size=20, n_neighbors=1 .....................................\n"
     ]
    },
    {
     "name": "stdout",
     "output_type": "stream",
     "text": [
      "[CV] ......... leaf_size=20, n_neighbors=1, score=0.817, total=   0.3s\n",
      "[CV] leaf_size=20, n_neighbors=1 .....................................\n",
      "[CV] ......... leaf_size=20, n_neighbors=1, score=0.819, total=   0.2s\n",
      "[CV] leaf_size=20, n_neighbors=1 .....................................\n",
      "[CV] ......... leaf_size=20, n_neighbors=1, score=0.816, total=   0.2s\n",
      "[CV] leaf_size=20, n_neighbors=3 .....................................\n",
      "[CV] ......... leaf_size=20, n_neighbors=3, score=0.849, total=   0.2s\n",
      "[CV] leaf_size=20, n_neighbors=3 .....................................\n",
      "[CV] ......... leaf_size=20, n_neighbors=3, score=0.845, total=   0.1s\n",
      "[CV] leaf_size=20, n_neighbors=3 .....................................\n",
      "[CV] ......... leaf_size=20, n_neighbors=3, score=0.842, total=   0.1s\n",
      "[CV] leaf_size=20, n_neighbors=5 .....................................\n",
      "[CV] ......... leaf_size=20, n_neighbors=5, score=0.858, total=   0.2s\n",
      "[CV] leaf_size=20, n_neighbors=5 .....................................\n",
      "[CV] ......... leaf_size=20, n_neighbors=5, score=0.849, total=   0.1s\n",
      "[CV] leaf_size=20, n_neighbors=5 .....................................\n",
      "[CV] ......... leaf_size=20, n_neighbors=5, score=0.845, total=   0.1s\n",
      "[CV] leaf_size=20, n_neighbors=7 .....................................\n",
      "[CV] ......... leaf_size=20, n_neighbors=7, score=0.859, total=   0.3s\n",
      "[CV] leaf_size=20, n_neighbors=7 .....................................\n",
      "[CV] ......... leaf_size=20, n_neighbors=7, score=0.852, total=   0.1s\n",
      "[CV] leaf_size=20, n_neighbors=7 .....................................\n",
      "[CV] ......... leaf_size=20, n_neighbors=7, score=0.848, total=   0.1s\n",
      "[CV] leaf_size=20, n_neighbors=9 .....................................\n",
      "[CV] ......... leaf_size=20, n_neighbors=9, score=0.866, total=   0.1s\n",
      "[CV] leaf_size=20, n_neighbors=9 .....................................\n",
      "[CV] ......... leaf_size=20, n_neighbors=9, score=0.861, total=   0.2s\n",
      "[CV] leaf_size=20, n_neighbors=9 .....................................\n",
      "[CV] ......... leaf_size=20, n_neighbors=9, score=0.850, total=   0.1s\n",
      "[CV] leaf_size=20, n_neighbors=11 ....................................\n",
      "[CV] ........ leaf_size=20, n_neighbors=11, score=0.868, total=   0.1s\n",
      "[CV] leaf_size=20, n_neighbors=11 ....................................\n",
      "[CV] ........ leaf_size=20, n_neighbors=11, score=0.854, total=   0.1s\n",
      "[CV] leaf_size=20, n_neighbors=11 ....................................\n",
      "[CV] ........ leaf_size=20, n_neighbors=11, score=0.848, total=   0.1s\n",
      "[CV] leaf_size=20, n_neighbors=13 ....................................\n",
      "[CV] ........ leaf_size=20, n_neighbors=13, score=0.871, total=   0.1s\n",
      "[CV] leaf_size=20, n_neighbors=13 ....................................\n",
      "[CV] ........ leaf_size=20, n_neighbors=13, score=0.851, total=   0.2s\n",
      "[CV] leaf_size=20, n_neighbors=13 ....................................\n",
      "[CV] ........ leaf_size=20, n_neighbors=13, score=0.852, total=   0.1s\n",
      "[CV] leaf_size=20, n_neighbors=15 ....................................\n",
      "[CV] ........ leaf_size=20, n_neighbors=15, score=0.876, total=   0.1s\n",
      "[CV] leaf_size=20, n_neighbors=15 ....................................\n",
      "[CV] ........ leaf_size=20, n_neighbors=15, score=0.856, total=   0.1s\n",
      "[CV] leaf_size=20, n_neighbors=15 ....................................\n",
      "[CV] ........ leaf_size=20, n_neighbors=15, score=0.849, total=   0.1s\n",
      "[CV] leaf_size=20, n_neighbors=17 ....................................\n",
      "[CV] ........ leaf_size=20, n_neighbors=17, score=0.874, total=   0.1s\n",
      "[CV] leaf_size=20, n_neighbors=17 ....................................\n",
      "[CV] ........ leaf_size=20, n_neighbors=17, score=0.860, total=   0.2s\n",
      "[CV] leaf_size=20, n_neighbors=17 ....................................\n",
      "[CV] ........ leaf_size=20, n_neighbors=17, score=0.848, total=   0.1s\n",
      "[CV] leaf_size=20, n_neighbors=19 ....................................\n",
      "[CV] ........ leaf_size=20, n_neighbors=19, score=0.876, total=   0.1s\n",
      "[CV] leaf_size=20, n_neighbors=19 ....................................\n",
      "[CV] ........ leaf_size=20, n_neighbors=19, score=0.859, total=   0.1s\n",
      "[CV] leaf_size=20, n_neighbors=19 ....................................\n",
      "[CV] ........ leaf_size=20, n_neighbors=19, score=0.851, total=   0.1s\n",
      "[CV] leaf_size=30, n_neighbors=1 .....................................\n",
      "[CV] ......... leaf_size=30, n_neighbors=1, score=0.817, total=   0.1s\n",
      "[CV] leaf_size=30, n_neighbors=1 .....................................\n",
      "[CV] ......... leaf_size=30, n_neighbors=1, score=0.819, total=   0.1s\n",
      "[CV] leaf_size=30, n_neighbors=1 .....................................\n",
      "[CV] ......... leaf_size=30, n_neighbors=1, score=0.816, total=   0.1s\n",
      "[CV] leaf_size=30, n_neighbors=3 .....................................\n",
      "[CV] ......... leaf_size=30, n_neighbors=3, score=0.849, total=   0.1s\n",
      "[CV] leaf_size=30, n_neighbors=3 .....................................\n",
      "[CV] ......... leaf_size=30, n_neighbors=3, score=0.845, total=   0.1s\n",
      "[CV] leaf_size=30, n_neighbors=3 .....................................\n",
      "[CV] ......... leaf_size=30, n_neighbors=3, score=0.842, total=   0.1s\n",
      "[CV] leaf_size=30, n_neighbors=5 .....................................\n",
      "[CV] ......... leaf_size=30, n_neighbors=5, score=0.858, total=   0.1s\n",
      "[CV] leaf_size=30, n_neighbors=5 .....................................\n",
      "[CV] ......... leaf_size=30, n_neighbors=5, score=0.849, total=   0.1s\n",
      "[CV] leaf_size=30, n_neighbors=5 .....................................\n",
      "[CV] ......... leaf_size=30, n_neighbors=5, score=0.844, total=   0.1s\n",
      "[CV] leaf_size=30, n_neighbors=7 .....................................\n",
      "[CV] ......... leaf_size=30, n_neighbors=7, score=0.859, total=   0.1s\n",
      "[CV] leaf_size=30, n_neighbors=7 .....................................\n",
      "[CV] ......... leaf_size=30, n_neighbors=7, score=0.852, total=   0.1s\n",
      "[CV] leaf_size=30, n_neighbors=7 .....................................\n",
      "[CV] ......... leaf_size=30, n_neighbors=7, score=0.848, total=   0.1s\n",
      "[CV] leaf_size=30, n_neighbors=9 .....................................\n",
      "[CV] ......... leaf_size=30, n_neighbors=9, score=0.866, total=   0.1s\n",
      "[CV] leaf_size=30, n_neighbors=9 .....................................\n",
      "[CV] ......... leaf_size=30, n_neighbors=9, score=0.861, total=   0.1s\n",
      "[CV] leaf_size=30, n_neighbors=9 .....................................\n",
      "[CV] ......... leaf_size=30, n_neighbors=9, score=0.850, total=   0.1s\n",
      "[CV] leaf_size=30, n_neighbors=11 ....................................\n",
      "[CV] ........ leaf_size=30, n_neighbors=11, score=0.868, total=   0.1s\n",
      "[CV] leaf_size=30, n_neighbors=11 ....................................\n",
      "[CV] ........ leaf_size=30, n_neighbors=11, score=0.854, total=   0.1s\n",
      "[CV] leaf_size=30, n_neighbors=11 ....................................\n",
      "[CV] ........ leaf_size=30, n_neighbors=11, score=0.848, total=   0.1s\n",
      "[CV] leaf_size=30, n_neighbors=13 ....................................\n",
      "[CV] ........ leaf_size=30, n_neighbors=13, score=0.871, total=   0.1s\n",
      "[CV] leaf_size=30, n_neighbors=13 ....................................\n",
      "[CV] ........ leaf_size=30, n_neighbors=13, score=0.851, total=   0.1s\n",
      "[CV] leaf_size=30, n_neighbors=13 ....................................\n",
      "[CV] ........ leaf_size=30, n_neighbors=13, score=0.852, total=   0.1s\n",
      "[CV] leaf_size=30, n_neighbors=15 ....................................\n",
      "[CV] ........ leaf_size=30, n_neighbors=15, score=0.876, total=   0.1s\n",
      "[CV] leaf_size=30, n_neighbors=15 ....................................\n",
      "[CV] ........ leaf_size=30, n_neighbors=15, score=0.856, total=   0.1s\n",
      "[CV] leaf_size=30, n_neighbors=15 ....................................\n",
      "[CV] ........ leaf_size=30, n_neighbors=15, score=0.849, total=   0.1s\n",
      "[CV] leaf_size=30, n_neighbors=17 ....................................\n",
      "[CV] ........ leaf_size=30, n_neighbors=17, score=0.874, total=   0.1s\n",
      "[CV] leaf_size=30, n_neighbors=17 ....................................\n",
      "[CV] ........ leaf_size=30, n_neighbors=17, score=0.860, total=   0.1s\n",
      "[CV] leaf_size=30, n_neighbors=17 ....................................\n",
      "[CV] ........ leaf_size=30, n_neighbors=17, score=0.848, total=   0.1s\n",
      "[CV] leaf_size=30, n_neighbors=19 ....................................\n",
      "[CV] ........ leaf_size=30, n_neighbors=19, score=0.876, total=   0.1s\n",
      "[CV] leaf_size=30, n_neighbors=19 ....................................\n",
      "[CV] ........ leaf_size=30, n_neighbors=19, score=0.859, total=   0.1s\n",
      "[CV] leaf_size=30, n_neighbors=19 ....................................\n"
     ]
    },
    {
     "name": "stdout",
     "output_type": "stream",
     "text": [
      "[CV] ........ leaf_size=30, n_neighbors=19, score=0.851, total=   0.1s\n",
      "[CV] leaf_size=40, n_neighbors=1 .....................................\n",
      "[CV] ......... leaf_size=40, n_neighbors=1, score=0.817, total=   0.1s\n",
      "[CV] leaf_size=40, n_neighbors=1 .....................................\n",
      "[CV] ......... leaf_size=40, n_neighbors=1, score=0.819, total=   0.1s\n",
      "[CV] leaf_size=40, n_neighbors=1 .....................................\n",
      "[CV] ......... leaf_size=40, n_neighbors=1, score=0.816, total=   0.1s\n",
      "[CV] leaf_size=40, n_neighbors=3 .....................................\n",
      "[CV] ......... leaf_size=40, n_neighbors=3, score=0.849, total=   0.1s\n",
      "[CV] leaf_size=40, n_neighbors=3 .....................................\n",
      "[CV] ......... leaf_size=40, n_neighbors=3, score=0.845, total=   0.1s\n",
      "[CV] leaf_size=40, n_neighbors=3 .....................................\n",
      "[CV] ......... leaf_size=40, n_neighbors=3, score=0.842, total=   0.1s\n",
      "[CV] leaf_size=40, n_neighbors=5 .....................................\n",
      "[CV] ......... leaf_size=40, n_neighbors=5, score=0.858, total=   0.1s\n",
      "[CV] leaf_size=40, n_neighbors=5 .....................................\n",
      "[CV] ......... leaf_size=40, n_neighbors=5, score=0.849, total=   0.1s\n",
      "[CV] leaf_size=40, n_neighbors=5 .....................................\n",
      "[CV] ......... leaf_size=40, n_neighbors=5, score=0.844, total=   0.1s\n",
      "[CV] leaf_size=40, n_neighbors=7 .....................................\n",
      "[CV] ......... leaf_size=40, n_neighbors=7, score=0.859, total=   0.1s\n",
      "[CV] leaf_size=40, n_neighbors=7 .....................................\n",
      "[CV] ......... leaf_size=40, n_neighbors=7, score=0.852, total=   0.1s\n",
      "[CV] leaf_size=40, n_neighbors=7 .....................................\n",
      "[CV] ......... leaf_size=40, n_neighbors=7, score=0.848, total=   0.1s\n",
      "[CV] leaf_size=40, n_neighbors=9 .....................................\n",
      "[CV] ......... leaf_size=40, n_neighbors=9, score=0.866, total=   0.1s\n",
      "[CV] leaf_size=40, n_neighbors=9 .....................................\n",
      "[CV] ......... leaf_size=40, n_neighbors=9, score=0.861, total=   0.1s\n",
      "[CV] leaf_size=40, n_neighbors=9 .....................................\n",
      "[CV] ......... leaf_size=40, n_neighbors=9, score=0.850, total=   0.1s\n",
      "[CV] leaf_size=40, n_neighbors=11 ....................................\n",
      "[CV] ........ leaf_size=40, n_neighbors=11, score=0.868, total=   0.1s\n",
      "[CV] leaf_size=40, n_neighbors=11 ....................................\n",
      "[CV] ........ leaf_size=40, n_neighbors=11, score=0.854, total=   0.1s\n",
      "[CV] leaf_size=40, n_neighbors=11 ....................................\n",
      "[CV] ........ leaf_size=40, n_neighbors=11, score=0.848, total=   0.2s\n",
      "[CV] leaf_size=40, n_neighbors=13 ....................................\n",
      "[CV] ........ leaf_size=40, n_neighbors=13, score=0.871, total=   0.1s\n",
      "[CV] leaf_size=40, n_neighbors=13 ....................................\n",
      "[CV] ........ leaf_size=40, n_neighbors=13, score=0.851, total=   0.1s\n",
      "[CV] leaf_size=40, n_neighbors=13 ....................................\n",
      "[CV] ........ leaf_size=40, n_neighbors=13, score=0.852, total=   0.1s\n",
      "[CV] leaf_size=40, n_neighbors=15 ....................................\n",
      "[CV] ........ leaf_size=40, n_neighbors=15, score=0.876, total=   0.1s\n",
      "[CV] leaf_size=40, n_neighbors=15 ....................................\n",
      "[CV] ........ leaf_size=40, n_neighbors=15, score=0.856, total=   0.1s\n",
      "[CV] leaf_size=40, n_neighbors=15 ....................................\n",
      "[CV] ........ leaf_size=40, n_neighbors=15, score=0.849, total=   0.1s\n",
      "[CV] leaf_size=40, n_neighbors=17 ....................................\n",
      "[CV] ........ leaf_size=40, n_neighbors=17, score=0.874, total=   0.1s\n",
      "[CV] leaf_size=40, n_neighbors=17 ....................................\n",
      "[CV] ........ leaf_size=40, n_neighbors=17, score=0.860, total=   0.2s\n",
      "[CV] leaf_size=40, n_neighbors=17 ....................................\n",
      "[CV] ........ leaf_size=40, n_neighbors=17, score=0.848, total=   0.1s\n",
      "[CV] leaf_size=40, n_neighbors=19 ....................................\n",
      "[CV] ........ leaf_size=40, n_neighbors=19, score=0.876, total=   0.1s\n",
      "[CV] leaf_size=40, n_neighbors=19 ....................................\n",
      "[CV] ........ leaf_size=40, n_neighbors=19, score=0.859, total=   0.1s\n",
      "[CV] leaf_size=40, n_neighbors=19 ....................................\n",
      "[CV] ........ leaf_size=40, n_neighbors=19, score=0.851, total=   0.1s\n",
      "[CV] leaf_size=50, n_neighbors=1 .....................................\n",
      "[CV] ......... leaf_size=50, n_neighbors=1, score=0.817, total=   0.2s\n",
      "[CV] leaf_size=50, n_neighbors=1 .....................................\n",
      "[CV] ......... leaf_size=50, n_neighbors=1, score=0.819, total=   0.3s\n",
      "[CV] leaf_size=50, n_neighbors=1 .....................................\n",
      "[CV] ......... leaf_size=50, n_neighbors=1, score=0.816, total=   0.1s\n",
      "[CV] leaf_size=50, n_neighbors=3 .....................................\n",
      "[CV] ......... leaf_size=50, n_neighbors=3, score=0.849, total=   0.1s\n",
      "[CV] leaf_size=50, n_neighbors=3 .....................................\n",
      "[CV] ......... leaf_size=50, n_neighbors=3, score=0.845, total=   0.1s\n",
      "[CV] leaf_size=50, n_neighbors=3 .....................................\n",
      "[CV] ......... leaf_size=50, n_neighbors=3, score=0.842, total=   0.1s\n",
      "[CV] leaf_size=50, n_neighbors=5 .....................................\n",
      "[CV] ......... leaf_size=50, n_neighbors=5, score=0.858, total=   0.1s\n",
      "[CV] leaf_size=50, n_neighbors=5 .....................................\n",
      "[CV] ......... leaf_size=50, n_neighbors=5, score=0.849, total=   0.1s\n",
      "[CV] leaf_size=50, n_neighbors=5 .....................................\n",
      "[CV] ......... leaf_size=50, n_neighbors=5, score=0.844, total=   0.2s\n",
      "[CV] leaf_size=50, n_neighbors=7 .....................................\n",
      "[CV] ......... leaf_size=50, n_neighbors=7, score=0.859, total=   0.1s\n",
      "[CV] leaf_size=50, n_neighbors=7 .....................................\n",
      "[CV] ......... leaf_size=50, n_neighbors=7, score=0.852, total=   0.1s\n",
      "[CV] leaf_size=50, n_neighbors=7 .....................................\n",
      "[CV] ......... leaf_size=50, n_neighbors=7, score=0.848, total=   0.1s\n",
      "[CV] leaf_size=50, n_neighbors=9 .....................................\n",
      "[CV] ......... leaf_size=50, n_neighbors=9, score=0.866, total=   0.1s\n",
      "[CV] leaf_size=50, n_neighbors=9 .....................................\n",
      "[CV] ......... leaf_size=50, n_neighbors=9, score=0.861, total=   0.1s\n",
      "[CV] leaf_size=50, n_neighbors=9 .....................................\n",
      "[CV] ......... leaf_size=50, n_neighbors=9, score=0.850, total=   0.1s\n",
      "[CV] leaf_size=50, n_neighbors=11 ....................................\n",
      "[CV] ........ leaf_size=50, n_neighbors=11, score=0.868, total=   0.2s\n",
      "[CV] leaf_size=50, n_neighbors=11 ....................................\n",
      "[CV] ........ leaf_size=50, n_neighbors=11, score=0.854, total=   0.2s\n",
      "[CV] leaf_size=50, n_neighbors=11 ....................................\n",
      "[CV] ........ leaf_size=50, n_neighbors=11, score=0.848, total=   0.3s\n",
      "[CV] leaf_size=50, n_neighbors=13 ....................................\n",
      "[CV] ........ leaf_size=50, n_neighbors=13, score=0.871, total=   0.1s\n",
      "[CV] leaf_size=50, n_neighbors=13 ....................................\n",
      "[CV] ........ leaf_size=50, n_neighbors=13, score=0.851, total=   0.1s\n",
      "[CV] leaf_size=50, n_neighbors=13 ....................................\n",
      "[CV] ........ leaf_size=50, n_neighbors=13, score=0.852, total=   0.1s\n",
      "[CV] leaf_size=50, n_neighbors=15 ....................................\n",
      "[CV] ........ leaf_size=50, n_neighbors=15, score=0.876, total=   0.1s\n",
      "[CV] leaf_size=50, n_neighbors=15 ....................................\n",
      "[CV] ........ leaf_size=50, n_neighbors=15, score=0.856, total=   0.1s\n",
      "[CV] leaf_size=50, n_neighbors=15 ....................................\n",
      "[CV] ........ leaf_size=50, n_neighbors=15, score=0.849, total=   0.1s\n",
      "[CV] leaf_size=50, n_neighbors=17 ....................................\n",
      "[CV] ........ leaf_size=50, n_neighbors=17, score=0.874, total=   0.2s\n",
      "[CV] leaf_size=50, n_neighbors=17 ....................................\n",
      "[CV] ........ leaf_size=50, n_neighbors=17, score=0.860, total=   0.1s\n",
      "[CV] leaf_size=50, n_neighbors=17 ....................................\n",
      "[CV] ........ leaf_size=50, n_neighbors=17, score=0.848, total=   0.1s\n",
      "[CV] leaf_size=50, n_neighbors=19 ....................................\n",
      "[CV] ........ leaf_size=50, n_neighbors=19, score=0.876, total=   0.1s\n",
      "[CV] leaf_size=50, n_neighbors=19 ....................................\n"
     ]
    },
    {
     "name": "stdout",
     "output_type": "stream",
     "text": [
      "[CV] ........ leaf_size=50, n_neighbors=19, score=0.859, total=   0.1s\n",
      "[CV] leaf_size=50, n_neighbors=19 ....................................\n",
      "[CV] ........ leaf_size=50, n_neighbors=19, score=0.851, total=   0.1s\n"
     ]
    },
    {
     "name": "stderr",
     "output_type": "stream",
     "text": [
      "[Parallel(n_jobs=1)]: Done 180 out of 180 | elapsed:   19.0s finished\n"
     ]
    },
    {
     "data": {
      "text/plain": [
       "GridSearchCV(cv=3, estimator=KNeighborsClassifier(n_neighbors=19),\n",
       "             param_grid={'leaf_size': [5, 10, 20, 30, 40, 50],\n",
       "                         'n_neighbors': [1, 3, 5, 7, 9, 11, 13, 15, 17, 19]},\n",
       "             verbose=3)"
      ]
     },
     "execution_count": 161,
     "metadata": {},
     "output_type": "execute_result"
    }
   ],
   "source": [
    "from sklearn.neighbors import KNeighborsClassifier\n",
    "import matplotlib.pyplot as plt\n",
    "\n",
    "knn_model = KNeighborsClassifier(n_neighbors=k)\n",
    "param_grid = {\"leaf_size\": [5, 10, 20, 30, 40, 50],\n",
    "                \"n_neighbors\": list(range(1, 20, 2))}\n",
    "knn_grid = GridSearchCV(knn_model, param_grid, verbose=3, cv=3)\n",
    "knn_grid.fit(X_train_scaled, y_train)\n"
   ]
  },
  {
   "cell_type": "code",
   "execution_count": 163,
   "metadata": {},
   "outputs": [
    {
     "name": "stdout",
     "output_type": "stream",
     "text": [
      "{'leaf_size': 5, 'n_neighbors': 19}\n",
      "0.8619090719756262\n"
     ]
    }
   ],
   "source": [
    "print(knn_grid.best_params_)\n",
    "print(knn_grid.best_score_)"
   ]
  },
  {
   "cell_type": "code",
   "execution_count": 185,
   "metadata": {},
   "outputs": [
    {
     "name": "stdout",
     "output_type": "stream",
     "text": [
      "KNN Training Data Score: 0.8744993324432577\n",
      "KNN Testing Data Score: 0.870137299771167\n"
     ]
    }
   ],
   "source": [
    "# K Nearest Neighbor Model Scorint\n",
    "knn_model = knn_grid.best_estimator_\n",
    "print(f\"KNN Training Data Score: {knn_model.score(X_train_scaled, y_train)}\")\n",
    "print(f\"KNN Testing Data Score: {knn_model.score(X_test_scaled, y_test)}\")"
   ]
  },
  {
   "cell_type": "markdown",
   "metadata": {},
   "source": [
    "### Deep Learning Neural Network Model"
   ]
  },
  {
   "cell_type": "code",
   "execution_count": 14,
   "metadata": {},
   "outputs": [],
   "source": [
    "from sklearn.preprocessing import LabelEncoder\n",
    "label_encoder = LabelEncoder()\n",
    "label_encoder.fit(y_train)\n",
    "encoded_y_train = label_encoder.transform(y_train)\n",
    "label_encoder.fit(y_test)\n",
    "encoded_y_test = label_encoder.transform(y_test)\n"
   ]
  },
  {
   "cell_type": "code",
   "execution_count": 17,
   "metadata": {},
   "outputs": [
    {
     "name": "stdout",
     "output_type": "stream",
     "text": [
      "[[1. 0. 0.]\n",
      " [0. 0. 1.]\n",
      " [0. 0. 1.]\n",
      " ...\n",
      " [0. 0. 1.]\n",
      " [0. 0. 1.]\n",
      " [0. 0. 1.]]\n",
      "[[0. 0. 1.]\n",
      " [1. 0. 0.]\n",
      " [0. 0. 1.]\n",
      " ...\n",
      " [0. 1. 0.]\n",
      " [0. 1. 0.]\n",
      " [0. 1. 0.]]\n"
     ]
    }
   ],
   "source": [
    "from tensorflow.keras.utils import to_categorical\n",
    "y_train_categorical = to_categorical(encoded_y_train)\n",
    "y_test_categorical = to_categorical(encoded_y_test)\n",
    "print(y_train_categorical)\n",
    "print(y_test_categorical)\n"
   ]
  },
  {
   "cell_type": "code",
   "execution_count": 18,
   "metadata": {},
   "outputs": [],
   "source": [
    "from tensorflow.keras.models import Sequential\n",
    "deep_model = Sequential()\n"
   ]
  },
  {
   "cell_type": "code",
   "execution_count": 19,
   "metadata": {},
   "outputs": [
    {
     "name": "stdout",
     "output_type": "stream",
     "text": [
      "(5243, 5)\n",
      "(5243, 3)\n"
     ]
    }
   ],
   "source": [
    "print(X_train_scaled.shape)\n",
    "print(y_train_categorical.shape)\n"
   ]
  },
  {
   "cell_type": "code",
   "execution_count": 20,
   "metadata": {},
   "outputs": [
    {
     "name": "stdout",
     "output_type": "stream",
     "text": [
      "Model: \"sequential\"\n",
      "_________________________________________________________________\n",
      "Layer (type)                 Output Shape              Param #   \n",
      "=================================================================\n",
      "dense (Dense)                (None, 100)               600       \n",
      "_________________________________________________________________\n",
      "dense_1 (Dense)              (None, 100)               10100     \n",
      "_________________________________________________________________\n",
      "dense_2 (Dense)              (None, 100)               10100     \n",
      "_________________________________________________________________\n",
      "dense_3 (Dense)              (None, 3)                 303       \n",
      "=================================================================\n",
      "Total params: 21,103\n",
      "Trainable params: 21,103\n",
      "Non-trainable params: 0\n",
      "_________________________________________________________________\n"
     ]
    }
   ],
   "source": [
    "from tensorflow.keras.layers import Dense\n",
    "# number_inputs is the number of features in X\n",
    "deep_model.add(Dense(units=100, activation='relu', input_dim=5))\n",
    "deep_model.add(Dense(units=100, activation='relu'))\n",
    "deep_model.add(Dense(units=100, activation='relu'))\n",
    "deep_model.add(Dense(units=3, activation='softmax'))\n",
    "deep_model.summary()\n"
   ]
  },
  {
   "cell_type": "code",
   "execution_count": 21,
   "metadata": {},
   "outputs": [],
   "source": [
    "deep_model.compile(optimizer='adam',\n",
    "              loss='categorical_crossentropy',\n",
    "              metrics=['accuracy'])\n"
   ]
  },
  {
   "cell_type": "code",
   "execution_count": 22,
   "metadata": {},
   "outputs": [
    {
     "name": "stdout",
     "output_type": "stream",
     "text": [
      "Train on 5243 samples\n",
      "Epoch 1/100\n",
      "5243/5243 - 3s - loss: 0.4979 - accuracy: 0.7429\n",
      "Epoch 2/100\n",
      "5243/5243 - 1s - loss: 0.4434 - accuracy: 0.7450\n",
      "Epoch 3/100\n",
      "5243/5243 - 1s - loss: 0.4390 - accuracy: 0.7549\n",
      "Epoch 4/100\n",
      "5243/5243 - 1s - loss: 0.4359 - accuracy: 0.7692\n",
      "Epoch 5/100\n",
      "5243/5243 - 1s - loss: 0.4339 - accuracy: 0.7812\n",
      "Epoch 6/100\n",
      "5243/5243 - 1s - loss: 0.4318 - accuracy: 0.7765\n",
      "Epoch 7/100\n",
      "5243/5243 - 1s - loss: 0.4247 - accuracy: 0.7946\n",
      "Epoch 8/100\n",
      "5243/5243 - 1s - loss: 0.4182 - accuracy: 0.8062\n",
      "Epoch 9/100\n",
      "5243/5243 - 1s - loss: 0.4111 - accuracy: 0.8125\n",
      "Epoch 10/100\n",
      "5243/5243 - 1s - loss: 0.4015 - accuracy: 0.8253\n",
      "Epoch 11/100\n",
      "5243/5243 - 1s - loss: 0.3980 - accuracy: 0.8243\n",
      "Epoch 12/100\n",
      "5243/5243 - 1s - loss: 0.3934 - accuracy: 0.8280\n",
      "Epoch 13/100\n",
      "5243/5243 - 1s - loss: 0.3876 - accuracy: 0.8392\n",
      "Epoch 14/100\n",
      "5243/5243 - 1s - loss: 0.3866 - accuracy: 0.8312\n",
      "Epoch 15/100\n",
      "5243/5243 - 1s - loss: 0.3834 - accuracy: 0.8428\n",
      "Epoch 16/100\n",
      "5243/5243 - 1s - loss: 0.3862 - accuracy: 0.8362\n",
      "Epoch 17/100\n",
      "5243/5243 - 1s - loss: 0.3784 - accuracy: 0.8478\n",
      "Epoch 18/100\n",
      "5243/5243 - 1s - loss: 0.3731 - accuracy: 0.8461\n",
      "Epoch 19/100\n",
      "5243/5243 - 1s - loss: 0.3706 - accuracy: 0.8491\n",
      "Epoch 20/100\n",
      "5243/5243 - 1s - loss: 0.3771 - accuracy: 0.8447\n",
      "Epoch 21/100\n",
      "5243/5243 - 1s - loss: 0.3667 - accuracy: 0.8537\n",
      "Epoch 22/100\n",
      "5243/5243 - 1s - loss: 0.3638 - accuracy: 0.8526\n",
      "Epoch 23/100\n",
      "5243/5243 - 1s - loss: 0.3637 - accuracy: 0.8512\n",
      "Epoch 24/100\n",
      "5243/5243 - 1s - loss: 0.3664 - accuracy: 0.8520\n",
      "Epoch 25/100\n",
      "5243/5243 - 1s - loss: 0.3610 - accuracy: 0.8529\n",
      "Epoch 26/100\n",
      "5243/5243 - 1s - loss: 0.3715 - accuracy: 0.8512\n",
      "Epoch 27/100\n",
      "5243/5243 - 1s - loss: 0.3629 - accuracy: 0.8512\n",
      "Epoch 28/100\n",
      "5243/5243 - 1s - loss: 0.3596 - accuracy: 0.8571\n",
      "Epoch 29/100\n",
      "5243/5243 - 1s - loss: 0.3683 - accuracy: 0.8531\n",
      "Epoch 30/100\n",
      "5243/5243 - 1s - loss: 0.3600 - accuracy: 0.8541\n",
      "Epoch 31/100\n",
      "5243/5243 - 1s - loss: 0.3607 - accuracy: 0.8570\n",
      "Epoch 32/100\n",
      "5243/5243 - 1s - loss: 0.3580 - accuracy: 0.8604\n",
      "Epoch 33/100\n",
      "5243/5243 - 1s - loss: 0.3569 - accuracy: 0.8579\n",
      "Epoch 34/100\n",
      "5243/5243 - 1s - loss: 0.3574 - accuracy: 0.8575\n",
      "Epoch 35/100\n",
      "5243/5243 - 1s - loss: 0.3578 - accuracy: 0.8592\n",
      "Epoch 36/100\n",
      "5243/5243 - 1s - loss: 0.3613 - accuracy: 0.8514\n",
      "Epoch 37/100\n",
      "5243/5243 - 1s - loss: 0.3520 - accuracy: 0.8611\n",
      "Epoch 38/100\n",
      "5243/5243 - 1s - loss: 0.3598 - accuracy: 0.8566\n",
      "Epoch 39/100\n",
      "5243/5243 - 1s - loss: 0.3640 - accuracy: 0.8539\n",
      "Epoch 40/100\n",
      "5243/5243 - 1s - loss: 0.3552 - accuracy: 0.8585\n",
      "Epoch 41/100\n",
      "5243/5243 - 1s - loss: 0.3643 - accuracy: 0.8533\n",
      "Epoch 42/100\n",
      "5243/5243 - 1s - loss: 0.3539 - accuracy: 0.8585\n",
      "Epoch 43/100\n",
      "5243/5243 - 1s - loss: 0.3518 - accuracy: 0.8602\n",
      "Epoch 44/100\n",
      "5243/5243 - 1s - loss: 0.3504 - accuracy: 0.8611\n",
      "Epoch 45/100\n",
      "5243/5243 - 1s - loss: 0.3526 - accuracy: 0.8570\n",
      "Epoch 46/100\n",
      "5243/5243 - 1s - loss: 0.3513 - accuracy: 0.8611\n",
      "Epoch 47/100\n",
      "5243/5243 - 1s - loss: 0.3572 - accuracy: 0.8562\n",
      "Epoch 48/100\n",
      "5243/5243 - 1s - loss: 0.3560 - accuracy: 0.8570\n",
      "Epoch 49/100\n",
      "5243/5243 - 1s - loss: 0.3517 - accuracy: 0.8585\n",
      "Epoch 50/100\n",
      "5243/5243 - 1s - loss: 0.3523 - accuracy: 0.8610\n",
      "Epoch 51/100\n",
      "5243/5243 - 1s - loss: 0.3643 - accuracy: 0.8539\n",
      "Epoch 52/100\n",
      "5243/5243 - 1s - loss: 0.3503 - accuracy: 0.8591\n",
      "Epoch 53/100\n",
      "5243/5243 - 1s - loss: 0.3546 - accuracy: 0.8592\n",
      "Epoch 54/100\n",
      "5243/5243 - 1s - loss: 0.3534 - accuracy: 0.8570\n",
      "Epoch 55/100\n",
      "5243/5243 - 1s - loss: 0.3493 - accuracy: 0.8596\n",
      "Epoch 56/100\n",
      "5243/5243 - 1s - loss: 0.3506 - accuracy: 0.8615\n",
      "Epoch 57/100\n",
      "5243/5243 - 2s - loss: 0.3491 - accuracy: 0.8596\n",
      "Epoch 58/100\n",
      "5243/5243 - 1s - loss: 0.3501 - accuracy: 0.8619\n",
      "Epoch 59/100\n",
      "5243/5243 - 1s - loss: 0.3522 - accuracy: 0.8629\n",
      "Epoch 60/100\n",
      "5243/5243 - 1s - loss: 0.3510 - accuracy: 0.8610\n",
      "Epoch 61/100\n",
      "5243/5243 - 2s - loss: 0.3537 - accuracy: 0.8591\n",
      "Epoch 62/100\n",
      "5243/5243 - 1s - loss: 0.3517 - accuracy: 0.8573\n",
      "Epoch 63/100\n",
      "5243/5243 - 1s - loss: 0.3452 - accuracy: 0.8627\n",
      "Epoch 64/100\n",
      "5243/5243 - 1s - loss: 0.3482 - accuracy: 0.8627\n",
      "Epoch 65/100\n",
      "5243/5243 - 1s - loss: 0.3497 - accuracy: 0.8631\n",
      "Epoch 66/100\n",
      "5243/5243 - 1s - loss: 0.3465 - accuracy: 0.8632\n",
      "Epoch 67/100\n",
      "5243/5243 - 1s - loss: 0.3483 - accuracy: 0.8615\n",
      "Epoch 68/100\n",
      "5243/5243 - 1s - loss: 0.3556 - accuracy: 0.8566\n",
      "Epoch 69/100\n",
      "5243/5243 - 1s - loss: 0.3492 - accuracy: 0.8592\n",
      "Epoch 70/100\n",
      "5243/5243 - 1s - loss: 0.3521 - accuracy: 0.8608\n",
      "Epoch 71/100\n",
      "5243/5243 - 2s - loss: 0.3666 - accuracy: 0.8480\n",
      "Epoch 72/100\n",
      "5243/5243 - 1s - loss: 0.3516 - accuracy: 0.8585\n",
      "Epoch 73/100\n",
      "5243/5243 - 1s - loss: 0.3549 - accuracy: 0.8566\n",
      "Epoch 74/100\n",
      "5243/5243 - 1s - loss: 0.3463 - accuracy: 0.8629\n",
      "Epoch 75/100\n",
      "5243/5243 - 1s - loss: 0.3608 - accuracy: 0.8543\n",
      "Epoch 76/100\n",
      "5243/5243 - 1s - loss: 0.3454 - accuracy: 0.8638\n",
      "Epoch 77/100\n",
      "5243/5243 - 1s - loss: 0.3531 - accuracy: 0.8552\n",
      "Epoch 78/100\n",
      "5243/5243 - 1s - loss: 0.3518 - accuracy: 0.8581\n",
      "Epoch 79/100\n",
      "5243/5243 - 1s - loss: 0.3523 - accuracy: 0.8613\n",
      "Epoch 80/100\n",
      "5243/5243 - 1s - loss: 0.3504 - accuracy: 0.8608\n",
      "Epoch 81/100\n",
      "5243/5243 - 1s - loss: 0.4018 - accuracy: 0.8570\n",
      "Epoch 82/100\n",
      "5243/5243 - 1s - loss: 0.3665 - accuracy: 0.8589\n",
      "Epoch 83/100\n",
      "5243/5243 - 1s - loss: 0.3576 - accuracy: 0.8589\n",
      "Epoch 84/100\n",
      "5243/5243 - 1s - loss: 0.3552 - accuracy: 0.8592\n",
      "Epoch 85/100\n",
      "5243/5243 - 1s - loss: 0.3623 - accuracy: 0.8528\n",
      "Epoch 86/100\n",
      "5243/5243 - 1s - loss: 0.3539 - accuracy: 0.8604\n",
      "Epoch 87/100\n",
      "5243/5243 - 1s - loss: 0.3536 - accuracy: 0.8611\n",
      "Epoch 88/100\n",
      "5243/5243 - 1s - loss: 0.3550 - accuracy: 0.8619\n",
      "Epoch 89/100\n",
      "5243/5243 - 1s - loss: 0.3462 - accuracy: 0.8632\n",
      "Epoch 90/100\n",
      "5243/5243 - 1s - loss: 0.3501 - accuracy: 0.8600\n",
      "Epoch 91/100\n",
      "5243/5243 - 1s - loss: 0.3531 - accuracy: 0.8571\n",
      "Epoch 92/100\n",
      "5243/5243 - 1s - loss: 0.3498 - accuracy: 0.8617\n",
      "Epoch 93/100\n",
      "5243/5243 - 1s - loss: 0.3481 - accuracy: 0.8587\n",
      "Epoch 94/100\n",
      "5243/5243 - 1s - loss: 0.3583 - accuracy: 0.8522\n",
      "Epoch 95/100\n",
      "5243/5243 - 1s - loss: 0.3557 - accuracy: 0.8598\n",
      "Epoch 96/100\n",
      "5243/5243 - 1s - loss: 0.3443 - accuracy: 0.8625\n",
      "Epoch 97/100\n",
      "5243/5243 - 1s - loss: 0.3490 - accuracy: 0.8596\n",
      "Epoch 98/100\n",
      "5243/5243 - 1s - loss: 0.3483 - accuracy: 0.8615\n",
      "Epoch 99/100\n",
      "5243/5243 - 1s - loss: 0.3461 - accuracy: 0.8627\n",
      "Epoch 100/100\n",
      "5243/5243 - 1s - loss: 0.3484 - accuracy: 0.8583\n"
     ]
    },
    {
     "data": {
      "text/plain": [
       "<tensorflow.python.keras.callbacks.History at 0x1a40006cf8>"
      ]
     },
     "execution_count": 22,
     "metadata": {},
     "output_type": "execute_result"
    }
   ],
   "source": [
    "deep_model.fit(\n",
    "    X_train_scaled,\n",
    "    y_train_categorical,\n",
    "    epochs=100,\n",
    "    shuffle=True,\n",
    "    verbose=2\n",
    ")\n"
   ]
  },
  {
   "cell_type": "code",
   "execution_count": 23,
   "metadata": {},
   "outputs": [
    {
     "name": "stdout",
     "output_type": "stream",
     "text": [
      "1748/1 - 0s - loss: 0.4486 - accuracy: 0.8719\n",
      "Loss: 0.35727033121362156, Accuracy: 0.8718535304069519\n"
     ]
    }
   ],
   "source": [
    "# Deep Learning Model Scoring\n",
    "model_loss, model_accuracy = deep_model.evaluate(\n",
    "    X_test_scaled, y_test_categorical, verbose=2)\n",
    "print(f\"Loss: {model_loss}, Accuracy: {model_accuracy}\")\n"
   ]
  },
  {
   "cell_type": "markdown",
   "metadata": {},
   "source": [
    "### # Support Vector Machine Classifier Model"
   ]
  },
  {
   "cell_type": "code",
   "execution_count": 177,
   "metadata": {},
   "outputs": [
    {
     "data": {
      "text/plain": [
       "SVC(kernel='linear')"
      ]
     },
     "execution_count": 177,
     "metadata": {},
     "output_type": "execute_result"
    }
   ],
   "source": [
    "from sklearn.svm import SVC \n",
    "SVC_model = SVC(kernel='linear')\n",
    "SVC_model"
   ]
  },
  {
   "cell_type": "code",
   "execution_count": 178,
   "metadata": {},
   "outputs": [],
   "source": [
    "param_grid = {'C': [1, 5, 10, 50]}\n",
    "SVC_grid = GridSearchCV(SVC_model, param_grid, verbose=3)\n"
   ]
  },
  {
   "cell_type": "code",
   "execution_count": 179,
   "metadata": {},
   "outputs": [
    {
     "name": "stdout",
     "output_type": "stream",
     "text": [
      "Fitting 5 folds for each of 4 candidates, totalling 20 fits\n",
      "[CV] C=1 .............................................................\n",
      "[CV] ................................. C=1, score=0.749, total=   0.2s\n",
      "[CV] C=1 .............................................................\n"
     ]
    },
    {
     "name": "stderr",
     "output_type": "stream",
     "text": [
      "[Parallel(n_jobs=1)]: Using backend SequentialBackend with 1 concurrent workers.\n",
      "[Parallel(n_jobs=1)]: Done   1 out of   1 | elapsed:    0.2s remaining:    0.0s\n"
     ]
    },
    {
     "name": "stdout",
     "output_type": "stream",
     "text": [
      "[CV] ................................. C=1, score=0.735, total=   0.1s\n",
      "[CV] C=1 .............................................................\n",
      "[CV] ................................. C=1, score=0.759, total=   0.1s\n",
      "[CV] C=1 .............................................................\n",
      "[CV] ................................. C=1, score=0.741, total=   0.1s\n",
      "[CV] C=1 .............................................................\n"
     ]
    },
    {
     "name": "stderr",
     "output_type": "stream",
     "text": [
      "[Parallel(n_jobs=1)]: Done   2 out of   2 | elapsed:    0.3s remaining:    0.0s\n"
     ]
    },
    {
     "name": "stdout",
     "output_type": "stream",
     "text": [
      "[CV] ................................. C=1, score=0.748, total=   0.1s\n",
      "[CV] C=5 .............................................................\n",
      "[CV] ................................. C=5, score=0.750, total=   0.1s\n",
      "[CV] C=5 .............................................................\n",
      "[CV] ................................. C=5, score=0.737, total=   0.1s\n",
      "[CV] C=5 .............................................................\n",
      "[CV] ................................. C=5, score=0.765, total=   0.1s\n",
      "[CV] C=5 .............................................................\n",
      "[CV] ................................. C=5, score=0.751, total=   0.1s\n",
      "[CV] C=5 .............................................................\n",
      "[CV] ................................. C=5, score=0.760, total=   0.1s\n",
      "[CV] C=10 ............................................................\n",
      "[CV] ................................ C=10, score=0.750, total=   0.2s\n",
      "[CV] C=10 ............................................................\n",
      "[CV] ................................ C=10, score=0.739, total=   0.2s\n",
      "[CV] C=10 ............................................................\n",
      "[CV] ................................ C=10, score=0.765, total=   0.2s\n",
      "[CV] C=10 ............................................................\n",
      "[CV] ................................ C=10, score=0.752, total=   0.2s\n",
      "[CV] C=10 ............................................................\n",
      "[CV] ................................ C=10, score=0.760, total=   0.2s\n",
      "[CV] C=50 ............................................................\n",
      "[CV] ................................ C=50, score=0.751, total=   0.2s\n",
      "[CV] C=50 ............................................................\n",
      "[CV] ................................ C=50, score=0.739, total=   0.3s\n",
      "[CV] C=50 ............................................................\n",
      "[CV] ................................ C=50, score=0.768, total=   0.1s\n",
      "[CV] C=50 ............................................................\n",
      "[CV] ................................ C=50, score=0.756, total=   0.1s\n",
      "[CV] C=50 ............................................................\n",
      "[CV] ................................ C=50, score=0.762, total=   0.2s\n"
     ]
    },
    {
     "name": "stderr",
     "output_type": "stream",
     "text": [
      "[Parallel(n_jobs=1)]: Done  20 out of  20 | elapsed:    3.0s finished\n"
     ]
    },
    {
     "data": {
      "text/plain": [
       "GridSearchCV(estimator=SVC(kernel='linear'), param_grid={'C': [1, 5, 10, 50]},\n",
       "             verbose=3)"
      ]
     },
     "execution_count": 179,
     "metadata": {},
     "output_type": "execute_result"
    }
   ],
   "source": [
    "SVC_grid.fit(X_train_scaled, y_train)"
   ]
  },
  {
   "cell_type": "code",
   "execution_count": 180,
   "metadata": {},
   "outputs": [
    {
     "name": "stdout",
     "output_type": "stream",
     "text": [
      "{'C': 50}\n",
      "0.7552942096798841\n"
     ]
    }
   ],
   "source": [
    "print(SVC_grid.best_params_)\n",
    "print(SVC_grid.best_score_)\n"
   ]
  },
  {
   "cell_type": "code",
   "execution_count": 193,
   "metadata": {},
   "outputs": [
    {
     "name": "stdout",
     "output_type": "stream",
     "text": [
      "SVC Training Data Score: 0.7552927713141331\n",
      "SVC Testing Data Score: 0.7311212814645309\n"
     ]
    }
   ],
   "source": [
    "# Support Vector Machine Classifier Model Scoring\n",
    "SVC_model = SVC_grid.best_estimator_\n",
    "print(f\"SVC Training Data Score: {SVC_model.score(X_train_scaled, y_train)}\")\n",
    "print(f\"SVC Testing Data Score: {SVC_model.score(X_test_scaled, y_test)}\")\n"
   ]
  },
  {
   "cell_type": "markdown",
   "metadata": {},
   "source": [
    "### Logistic Regression Model"
   ]
  },
  {
   "cell_type": "code",
   "execution_count": 187,
   "metadata": {},
   "outputs": [
    {
     "data": {
      "text/plain": [
       "LogisticRegression()"
      ]
     },
     "execution_count": 187,
     "metadata": {},
     "output_type": "execute_result"
    }
   ],
   "source": [
    "from sklearn.linear_model import LogisticRegression\n",
    "logistic_model = LogisticRegression()\n",
    "logistic_model"
   ]
  },
  {
   "cell_type": "code",
   "execution_count": 188,
   "metadata": {},
   "outputs": [],
   "source": [
    "param_grid = {'C': [1, 5, 10, 50]}\n",
    "logistic_grid = GridSearchCV(logistic_model, param_grid, verbose=3)\n"
   ]
  },
  {
   "cell_type": "code",
   "execution_count": 189,
   "metadata": {},
   "outputs": [
    {
     "name": "stdout",
     "output_type": "stream",
     "text": [
      "Fitting 5 folds for each of 4 candidates, totalling 20 fits\n",
      "[CV] C=1 .............................................................\n",
      "[CV] ................................. C=1, score=0.792, total=   0.1s\n",
      "[CV] C=1 .............................................................\n",
      "[CV] ................................. C=1, score=0.804, total=   0.1s\n",
      "[CV] C=1 .............................................................\n"
     ]
    },
    {
     "name": "stderr",
     "output_type": "stream",
     "text": [
      "[Parallel(n_jobs=1)]: Using backend SequentialBackend with 1 concurrent workers.\n",
      "[Parallel(n_jobs=1)]: Done   1 out of   1 | elapsed:    0.1s remaining:    0.0s\n",
      "[Parallel(n_jobs=1)]: Done   2 out of   2 | elapsed:    0.2s remaining:    0.0s\n"
     ]
    },
    {
     "name": "stdout",
     "output_type": "stream",
     "text": [
      "[CV] ................................. C=1, score=0.817, total=   0.1s\n",
      "[CV] C=1 .............................................................\n",
      "[CV] ................................. C=1, score=0.788, total=   0.1s\n",
      "[CV] C=1 .............................................................\n",
      "[CV] ................................. C=1, score=0.798, total=   0.1s\n",
      "[CV] C=5 .............................................................\n",
      "[CV] ................................. C=5, score=0.795, total=   0.1s\n",
      "[CV] C=5 .............................................................\n",
      "[CV] ................................. C=5, score=0.806, total=   0.1s\n",
      "[CV] C=5 .............................................................\n",
      "[CV] ................................. C=5, score=0.816, total=   0.1s\n",
      "[CV] C=5 .............................................................\n",
      "[CV] ................................. C=5, score=0.793, total=   0.1s\n",
      "[CV] C=5 .............................................................\n",
      "[CV] ................................. C=5, score=0.802, total=   0.1s\n",
      "[CV] C=10 ............................................................\n",
      "[CV] ................................ C=10, score=0.799, total=   0.3s\n",
      "[CV] C=10 ............................................................\n",
      "[CV] ................................ C=10, score=0.808, total=   0.1s\n",
      "[CV] C=10 ............................................................\n",
      "[CV] ................................ C=10, score=0.820, total=   0.1s\n",
      "[CV] C=10 ............................................................\n",
      "[CV] ................................ C=10, score=0.795, total=   0.1s\n",
      "[CV] C=10 ............................................................\n",
      "[CV] ................................ C=10, score=0.809, total=   0.3s\n",
      "[CV] C=50 ............................................................\n"
     ]
    },
    {
     "name": "stderr",
     "output_type": "stream",
     "text": [
      "/opt/anaconda3/envs/PythonAdv/lib/python3.6/site-packages/sklearn/linear_model/_logistic.py:764: ConvergenceWarning: lbfgs failed to converge (status=1):\n",
      "STOP: TOTAL NO. of ITERATIONS REACHED LIMIT.\n",
      "\n",
      "Increase the number of iterations (max_iter) or scale the data as shown in:\n",
      "    https://scikit-learn.org/stable/modules/preprocessing.html\n",
      "Please also refer to the documentation for alternative solver options:\n",
      "    https://scikit-learn.org/stable/modules/linear_model.html#logistic-regression\n",
      "  extra_warning_msg=_LOGISTIC_SOLVER_CONVERGENCE_MSG)\n",
      "/opt/anaconda3/envs/PythonAdv/lib/python3.6/site-packages/sklearn/linear_model/_logistic.py:764: ConvergenceWarning: lbfgs failed to converge (status=1):\n",
      "STOP: TOTAL NO. of ITERATIONS REACHED LIMIT.\n",
      "\n",
      "Increase the number of iterations (max_iter) or scale the data as shown in:\n",
      "    https://scikit-learn.org/stable/modules/preprocessing.html\n",
      "Please also refer to the documentation for alternative solver options:\n",
      "    https://scikit-learn.org/stable/modules/linear_model.html#logistic-regression\n",
      "  extra_warning_msg=_LOGISTIC_SOLVER_CONVERGENCE_MSG)\n"
     ]
    },
    {
     "name": "stdout",
     "output_type": "stream",
     "text": [
      "[CV] ................................ C=50, score=0.825, total=   0.2s\n",
      "[CV] C=50 ............................................................\n",
      "[CV] ................................ C=50, score=0.826, total=   0.2s\n",
      "[CV] C=50 ............................................................\n"
     ]
    },
    {
     "name": "stderr",
     "output_type": "stream",
     "text": [
      "/opt/anaconda3/envs/PythonAdv/lib/python3.6/site-packages/sklearn/linear_model/_logistic.py:764: ConvergenceWarning: lbfgs failed to converge (status=1):\n",
      "STOP: TOTAL NO. of ITERATIONS REACHED LIMIT.\n",
      "\n",
      "Increase the number of iterations (max_iter) or scale the data as shown in:\n",
      "    https://scikit-learn.org/stable/modules/preprocessing.html\n",
      "Please also refer to the documentation for alternative solver options:\n",
      "    https://scikit-learn.org/stable/modules/linear_model.html#logistic-regression\n",
      "  extra_warning_msg=_LOGISTIC_SOLVER_CONVERGENCE_MSG)\n",
      "/opt/anaconda3/envs/PythonAdv/lib/python3.6/site-packages/sklearn/linear_model/_logistic.py:764: ConvergenceWarning: lbfgs failed to converge (status=1):\n",
      "STOP: TOTAL NO. of ITERATIONS REACHED LIMIT.\n",
      "\n",
      "Increase the number of iterations (max_iter) or scale the data as shown in:\n",
      "    https://scikit-learn.org/stable/modules/preprocessing.html\n",
      "Please also refer to the documentation for alternative solver options:\n",
      "    https://scikit-learn.org/stable/modules/linear_model.html#logistic-regression\n",
      "  extra_warning_msg=_LOGISTIC_SOLVER_CONVERGENCE_MSG)\n"
     ]
    },
    {
     "name": "stdout",
     "output_type": "stream",
     "text": [
      "[CV] ................................ C=50, score=0.829, total=   0.6s\n",
      "[CV] C=50 ............................................................\n",
      "[CV] ................................ C=50, score=0.802, total=   0.2s\n",
      "[CV] C=50 ............................................................\n",
      "[CV] ................................ C=50, score=0.822, total=   0.4s\n"
     ]
    },
    {
     "name": "stderr",
     "output_type": "stream",
     "text": [
      "/opt/anaconda3/envs/PythonAdv/lib/python3.6/site-packages/sklearn/linear_model/_logistic.py:764: ConvergenceWarning: lbfgs failed to converge (status=1):\n",
      "STOP: TOTAL NO. of ITERATIONS REACHED LIMIT.\n",
      "\n",
      "Increase the number of iterations (max_iter) or scale the data as shown in:\n",
      "    https://scikit-learn.org/stable/modules/preprocessing.html\n",
      "Please also refer to the documentation for alternative solver options:\n",
      "    https://scikit-learn.org/stable/modules/linear_model.html#logistic-regression\n",
      "  extra_warning_msg=_LOGISTIC_SOLVER_CONVERGENCE_MSG)\n",
      "[Parallel(n_jobs=1)]: Done  20 out of  20 | elapsed:    3.5s finished\n",
      "/opt/anaconda3/envs/PythonAdv/lib/python3.6/site-packages/sklearn/linear_model/_logistic.py:764: ConvergenceWarning: lbfgs failed to converge (status=1):\n",
      "STOP: TOTAL NO. of ITERATIONS REACHED LIMIT.\n",
      "\n",
      "Increase the number of iterations (max_iter) or scale the data as shown in:\n",
      "    https://scikit-learn.org/stable/modules/preprocessing.html\n",
      "Please also refer to the documentation for alternative solver options:\n",
      "    https://scikit-learn.org/stable/modules/linear_model.html#logistic-regression\n",
      "  extra_warning_msg=_LOGISTIC_SOLVER_CONVERGENCE_MSG)\n"
     ]
    },
    {
     "data": {
      "text/plain": [
       "GridSearchCV(estimator=LogisticRegression(), param_grid={'C': [1, 5, 10, 50]},\n",
       "             verbose=3)"
      ]
     },
     "execution_count": 189,
     "metadata": {},
     "output_type": "execute_result"
    }
   ],
   "source": [
    "logistic_grid.fit(X_train_scaled, y_train)"
   ]
  },
  {
   "cell_type": "code",
   "execution_count": 190,
   "metadata": {},
   "outputs": [
    {
     "name": "stdout",
     "output_type": "stream",
     "text": [
      "{'C': 50}\n",
      "0.8207100182653054\n"
     ]
    }
   ],
   "source": [
    "print(logistic_grid.best_params_)\n",
    "print(logistic_grid.best_score_)\n"
   ]
  },
  {
   "cell_type": "code",
   "execution_count": 192,
   "metadata": {},
   "outputs": [
    {
     "name": "stdout",
     "output_type": "stream",
     "text": [
      "Logistic Training Data Score: 0.822429906542056\n",
      "Logistic Testing Data Score: 0.8094965675057209\n"
     ]
    }
   ],
   "source": [
    "# Logistic Regression Model Scoring\n",
    "logistic_model = logistic_grid.best_estimator_\n",
    "print(f\"Logistic Training Data Score: {logistic_model.score(X_train_scaled, y_train)}\")\n",
    "print(f\"Logistic Testing Data Score: {logistic_model.score(X_test_scaled, y_test)}\")\n"
   ]
  },
  {
   "cell_type": "markdown",
   "metadata": {},
   "source": [
    "# Save the Model"
   ]
  },
  {
   "cell_type": "code",
   "execution_count": 194,
   "metadata": {},
   "outputs": [
    {
     "data": {
      "text/plain": [
       "['sandra_froonjian.sav']"
      ]
     },
     "execution_count": 194,
     "metadata": {},
     "output_type": "execute_result"
    }
   ],
   "source": [
    "# if joblib fails to import, try running the command to install in terminal/git-bash\n",
    "import joblib\n",
    "filename = 'sandra_froonjian.sav'\n",
    "joblib.dump(rf_model, filename)\n"
   ]
  },
  {
   "cell_type": "code",
   "execution_count": null,
   "metadata": {},
   "outputs": [],
   "source": []
  }
 ],
 "metadata": {
  "kernel_info": {
   "name": "dev"
  },
  "kernelspec": {
   "display_name": "Python 3",
   "language": "python",
   "name": "python3"
  },
  "language_info": {
   "codemirror_mode": {
    "name": "ipython",
    "version": 3
   },
   "file_extension": ".py",
   "mimetype": "text/x-python",
   "name": "python",
   "nbconvert_exporter": "python",
   "pygments_lexer": "ipython3",
   "version": "3.6.10"
  },
  "nteract": {
   "version": "0.12.3"
  }
 },
 "nbformat": 4,
 "nbformat_minor": 2
}
